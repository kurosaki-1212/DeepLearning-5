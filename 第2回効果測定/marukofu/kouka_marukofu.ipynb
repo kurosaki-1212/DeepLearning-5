{
  "nbformat": 4,
  "nbformat_minor": 0,
  "metadata": {
    "colab": {
      "name": "kouka_marukofu.ipynb",
      "provenance": [],
      "collapsed_sections": []
    },
    "kernelspec": {
      "name": "python3",
      "display_name": "Python 3"
    },
    "language_info": {
      "name": "python"
    }
  },
  "cells": [
    {
      "cell_type": "code",
      "execution_count": 1,
      "metadata": {
        "colab": {
          "base_uri": "https://localhost:8080/"
        },
        "id": "g9UaR59GEuGb",
        "outputId": "7c360b80-595a-4787-ef0f-f7a3737352d2"
      },
      "outputs": [
        {
          "output_type": "stream",
          "name": "stdout",
          "text": [
            "Cloning into 'mecab-ipadic-neologd'...\n",
            "remote: Enumerating objects: 75, done.\u001b[K\n",
            "remote: Counting objects: 100% (75/75), done.\u001b[K\n",
            "remote: Compressing objects: 100% (74/74), done.\u001b[K\n",
            "remote: Total 75 (delta 5), reused 54 (delta 0), pack-reused 0\u001b[K\n",
            "Unpacking objects: 100% (75/75), done.\n"
          ]
        }
      ],
      "source": [
        "!apt-get -q -y install sudo file mecab libmecab-dev mecab-ipadic-utf8 git curl python-mecab > /dev/null\n",
        "!git clone --depth 1 https://github.com/neologd/mecab-ipadic-neologd.git > /dev/null \n",
        "!echo yes | mecab-ipadic-neologd/bin/install-mecab-ipadic-neologd -n > /dev/null 2>&1\n",
        "!pip install mecab-python3 > /dev/null\n",
        "\n",
        "# シンボリックリンクによるエラー回避\n",
        "!ln -s /etc/mecabrc /usr/local/etc/mecabrc"
      ]
    },
    {
      "cell_type": "code",
      "source": [
        "# 念のためパスの確認\n",
        "!echo `mecab-config --dicdir`\"/mecab-ipadic-neologd\""
      ],
      "metadata": {
        "colab": {
          "base_uri": "https://localhost:8080/"
        },
        "id": "dsLJClYsFeJv",
        "outputId": "adc6eaac-346a-4216-a842-6e3a911df5fa"
      },
      "execution_count": 104,
      "outputs": [
        {
          "output_type": "stream",
          "name": "stdout",
          "text": [
            "/usr/lib/x86_64-linux-gnu/mecab/dic/mecab-ipadic-neologd\n"
          ]
        }
      ]
    },
    {
      "cell_type": "code",
      "source": [
        "import MeCab\n",
        "import os,json,random"
      ],
      "metadata": {
        "id": "dksRkcvFFfJa"
      },
      "execution_count": 105,
      "outputs": []
    },
    {
      "cell_type": "code",
      "source": [
        "# 夏目漱石のファイルを読み込んだ際の関数\n",
        "# ファイルを読み込み、マルコフ辞書に登録する関数を作成する\n",
        "def make_natume(filename):\n",
        "\n",
        "  # 辞書に登録されていない場合処理を行う\n",
        "  if not os.path.exists(dict_file_natume): \n",
        "\n",
        "    # withを使用してテキストファイルを開く\n",
        "    with open(filename) as f:\n",
        "        # 1行ずつ読み込む\n",
        "        line = f.readline()\n",
        "\n",
        "        # テキストファイルの最終行までループする\n",
        "        while line:\n",
        "            text = line.rstrip()\n",
        "\n",
        "            # 形態素解析\n",
        "            # 下記のパスは、環境設定時に表示された値にする\n",
        "            tagger = MeCab.Tagger('-d /usr/lib/x86_64-linux-gnu/mecab/dic/mecab-ipadic-neologd')\n",
        "            tagger.parse('')\n",
        "            node =  tagger.parseToNode(text)\n",
        "\n",
        "            # 形態素解析の結果から、単語と品詞情報を抽出\n",
        "            wordlist = []\n",
        "            while node is not None:\n",
        "                hinshi = node.feature.split(',')[0]\n",
        "                if  hinshi not  in ['BOS/EOS']:\n",
        "                    wordlist.append([node.surface,hinshi])\n",
        "                node = node.next\n",
        "            \n",
        "            # マルコフ連鎖の辞書に登録\n",
        "            regist_dic(wordlist)\n",
        "\n",
        "            line = f.readline()"
      ],
      "metadata": {
        "id": "lJjDIn8LFhaa"
      },
      "execution_count": 106,
      "outputs": []
    },
    {
      "cell_type": "code",
      "source": [
        "# 森鴎外のファイルを読み込んだ際の関数\n",
        "# ファイルを読み込み、マルコフ辞書に登録する関数を作成する\n",
        "def make_ougai(filename):\n",
        "\n",
        "  # 辞書に登録されていない場合処理を行う\n",
        "  if not os.path.exists(dict_file_ougai): \n",
        "\n",
        "    # withを使用してテキストファイルを開く\n",
        "    with open(filename) as f:\n",
        "        # 1行ずつ読み込む\n",
        "        line = f.readline()\n",
        "\n",
        "        # テキストファイルの最終行までループする\n",
        "        while line:\n",
        "            text = line.rstrip()\n",
        "\n",
        "            # 形態素解析\n",
        "            # 下記のパスは、環境設定時に表示された値にする\n",
        "            tagger = MeCab.Tagger('-d /usr/lib/x86_64-linux-gnu/mecab/dic/mecab-ipadic-neologd')\n",
        "            tagger.parse('')\n",
        "            node =  tagger.parseToNode(text)\n",
        "\n",
        "            # 形態素解析の結果から、単語と品詞情報を抽出\n",
        "            wordlist = []\n",
        "            while node is not None:\n",
        "                hinshi = node.feature.split(',')[0]\n",
        "                if  hinshi not  in ['BOS/EOS']:\n",
        "                    wordlist.append([node.surface,hinshi])\n",
        "                node = node.next\n",
        "            \n",
        "            # マルコフ連鎖の辞書に登録\n",
        "            regist_dic(wordlist)\n",
        "\n",
        "            line = f.readline()"
      ],
      "metadata": {
        "id": "96E24qKtvmA2"
      },
      "execution_count": 107,
      "outputs": []
    },
    {
      "cell_type": "code",
      "source": [
        "# 芥川龍之介のファイルを読み込んだ際の関数\n",
        "# ファイルを読み込み、マルコフ辞書に登録する関数を作成する\n",
        "def make_akutagawa(filename):\n",
        "\n",
        "  # 辞書に登録されていない場合処理を行う\n",
        "  if not os.path.exists(dict_file_akutagawa): \n",
        "\n",
        "    # withを使用してテキストファイルを開く\n",
        "    with open(filename) as f:\n",
        "        # 1行ずつ読み込む\n",
        "        line = f.readline()\n",
        "\n",
        "        # テキストファイルの最終行までループする\n",
        "        while line:\n",
        "            text = line.rstrip()\n",
        "\n",
        "            # 形態素解析\n",
        "            # 下記のパスは、環境設定時に表示された値にする\n",
        "            tagger = MeCab.Tagger('-d /usr/lib/x86_64-linux-gnu/mecab/dic/mecab-ipadic-neologd')\n",
        "            tagger.parse('')\n",
        "            node =  tagger.parseToNode(text)\n",
        "\n",
        "            # 形態素解析の結果から、単語と品詞情報を抽出\n",
        "            wordlist = []\n",
        "            while node is not None:\n",
        "                hinshi = node.feature.split(',')[0]\n",
        "                if  hinshi not  in ['BOS/EOS']:\n",
        "                    wordlist.append([node.surface,hinshi])\n",
        "                node = node.next\n",
        "            \n",
        "            # マルコフ連鎖の辞書に登録\n",
        "            \n",
        "            regist_dic(wordlist)\n",
        "\n",
        "            line = f.readline()"
      ],
      "metadata": {
        "id": "DyIG73E8voiN"
      },
      "execution_count": 108,
      "outputs": []
    },
    {
      "cell_type": "code",
      "source": [
        "dict_file_natume = 'natume_dict.json'\n",
        "dict_file_ougai = 'ougai_dict.json'\n",
        "dict_file_akutagawa = 'akutagawa_dict.json'\n",
        "dic = {}\n",
        "\n",
        "# 辞書への登録\n",
        "def regist_dic(wordlist):\n",
        "    global dic\n",
        "    w1 = ''\n",
        "    w2 = ''\n",
        "    \n",
        "    # 要素が3未満の場合は、何もしない\n",
        "    if len(wordlist) < 3 :\n",
        "      return\n",
        "\n",
        "    for w in wordlist :\n",
        "        word = w[0]\n",
        "\n",
        "        if word == '' or  word == '\\r\\n' or word == '\\n' :\n",
        "            continue\n",
        "\n",
        "        # 辞書に単語を設定\n",
        "        if w1 and w2 :\n",
        "            set_dic(dic,w1, w2, word)\n",
        "\n",
        "        # 文末を表す語の場合、連鎖をクリアする\n",
        "        if word == '。' or word == '?' or  word == '？' :\n",
        "            w1 = ''\n",
        "            w2 = ''\n",
        "            continue\n",
        "        # 次の前後関係を登録するために、単語をスライド\n",
        "        w1, w2 = w2, word\n",
        "    \n",
        "    # 辞書を保存\n",
        "    if human == 1:\n",
        "      json.dump(dic, open(dict_file_natume, 'w'))\n",
        "    elif human == 2:\n",
        "      json.dump(dic, open(dict_file_ougai, 'w'))\n",
        "    elif human == 3:\n",
        "      json.dump(dic, open(dict_file_akutagawa, 'w'))\n",
        "\n",
        "# 辞書に単語を設定\n",
        "def set_dic(dic, w1, w2, w3):\n",
        "    # 新しい単語の場合は、新しい辞書オブジェクトを作成\n",
        "    # ・dicのキーにw1が存在しないときは、キーを追加し、空の辞書をセットする\n",
        "    if w1 not in dic : dic[w1] = {}\n",
        "\n",
        "    # ・dic[w1]のキーにw2が存在しないときは、キーを追加し、空の辞書をセットする\n",
        "    if w2 not in dic[w1] : dic[w1][w2] = {}\n",
        "\n",
        "    # ・dic[w1][w2]のキーにw3が存在しないときは、キーを追加し、0をセットする\n",
        "    if w3 not in dic[w1][w2] : dic[w1][w2][w3] = 0\n",
        "\n",
        "    # 単語の出現数をインクリメントする\n",
        "    dic[w1][w2][w3] += 1"
      ],
      "metadata": {
        "id": "FpXZptAiFnrj"
      },
      "execution_count": 109,
      "outputs": []
    },
    {
      "cell_type": "code",
      "source": [
        "# 応答文の作成\n",
        "def make_response(word):\n",
        "    res = []\n",
        "    # 「名詞」/「形容詞」/「動詞」は、文章の意図を示していることが多いと想定し、始点の単語とする。\n",
        "    w1 = word\n",
        "    res.append(w1)\n",
        "    w2 = word_choice(dic[w1])\n",
        "    res.append(w2)\n",
        "    while True:\n",
        "        # w1,w2の組み合わせから予想される、単語を選択\n",
        "        if w1 in dic and w2 in dic[w1] : w3 = word_choice(dic[w1][w2])\n",
        "        else : w3 = \"\"\n",
        "        res.append(w3)\n",
        "        # 文末を表す語の場合、作文を終了\n",
        "        if w3 == \"。\" or w3 == \"?\" or  w3 == \"？\"  or w3 == \"\" :  break\n",
        "        # 次の単語を選択するために、単語をスライド\n",
        "        w1, w2 = w2, w3\n",
        "    return \"\".join(res)        \n",
        "        \n",
        "def word_choice(candidate):\n",
        "    keys = candidate.keys()\n",
        "    return random.choice(list(keys))\n",
        "\n",
        "# メイン処理\n",
        "def play_chat():\n",
        "\n",
        "  # 辞書がすでに存在する場合は、最初に読み込む\n",
        "  if human == 1:\n",
        "    if os.path.exists(dict_file_natume):\n",
        "            dic = json.load(open(dict_file_natume,\"r\"))\n",
        "  elif human == 2:\n",
        "    if os.path.exists(dict_file_ougai):\n",
        "            dic = json.load(open(dict_file_ougai,\"r\"))\n",
        "  elif human == 3:\n",
        "    if os.path.exists(dict_file_akutagawa):\n",
        "            dic = json.load(open(dict_file_akutagawa,\"r\"))\n",
        "          \n",
        "  while True:\n",
        "      # 標準入力から入力を受け付け、「さようなら」が入力されるまで続ける\n",
        "      text = input(\"You -> \")\n",
        "      if text == \"\" or text == \"また会いましょう\" : \n",
        "          print(\"Bot -> また会いましょう\")\n",
        "          break\n",
        "\n",
        "      # 文章整形\n",
        "      if text[-1] != \"。\" and text[-1] != \"?\" and text[-1] != \"？\" : text +=\"。\"\n",
        "      \n",
        "      # 形態素解析\n",
        "      tagger = MeCab.Tagger(\"-d /usr/lib/x86_64-linux-gnu/mecab/dic/mecab-ipadic-neologd\")\n",
        "      tagger.parse(\"\")\n",
        "      node =  tagger.parseToNode(text)\n",
        "      \n",
        "      # 形態素解析の結果から、単語と品詞情報を抽出\n",
        "      wordlist = []\n",
        "      while node is not None:\n",
        "          hinshi = node.feature.split(\",\")[0]\n",
        "          if  hinshi not  in [\"BOS/EOS\"]:\n",
        "              wordlist.append([node.surface,hinshi])\n",
        "          node = node.next\n",
        "\n",
        "      # 応答文の作成\n",
        "      for w in wordlist:\n",
        "          word = w[0]\n",
        "          hinshi = w[1]\n",
        "          # 品詞が「感動詞」の場合は、単語をそのまま返す\n",
        "          if hinshi in [ \"感動詞\"] : \n",
        "              print(\"Bot -> \" + word)\n",
        "              break\n",
        "          # 品詞が「名詞」「形容詞」「動詞」の場合で、かつ、辞書に単語が存在する場合は、作文して返す\n",
        "          elif (hinshi in [ \"名詞\" ,\"形容詞\",\"動詞\"]) and (word in dic):\n",
        "              print(\"Bot -> \" + make_response(word))\n",
        "              break"
      ],
      "metadata": {
        "id": "fXrXqngkFs_J"
      },
      "execution_count": 110,
      "outputs": []
    },
    {
      "cell_type": "code",
      "source": [
        "# 正しい値が入力されるまでループする\n",
        "while True:\n",
        "\n",
        "  # 著者を選択してもらい数字を入力してもらう\n",
        "  print('１：夏目漱石')\n",
        "  print('２：森鴎外')\n",
        "  print('３：芥川龍之介')\n",
        "  try:\n",
        "    human = int(input('著者を入力してください：'))\n",
        "  except Exception as e:\n",
        "    print(e)\n",
        "\n",
        "  # make_markof関数を使用して、選んだ著者ののマルコフ辞書を作成する\n",
        "  try:\n",
        "    if human == 1:\n",
        "      print('夏目漱石が選択されました')\n",
        "      make_natume('natume.txt')\n",
        "      break\n",
        "    elif human == 2:\n",
        "      print('森鴎外が選択されました')\n",
        "      make_ougai('ougai.txt')\n",
        "      break\n",
        "    elif human == 3:\n",
        "      print('芥川龍之介が選択されました')\n",
        "      make_akutagawa('akutagawa.txt')\n",
        "      break\n",
        "    else:\n",
        "      print('指定した番号を入力してください')\n",
        "  except Exception as e:\n",
        "    print(e)\n",
        "\n",
        "# play_chat関数を呼び出す\n",
        "play_chat()"
      ],
      "metadata": {
        "colab": {
          "base_uri": "https://localhost:8080/"
        },
        "id": "Cg6magUhFvh1",
        "outputId": "12fcc690-00dd-4e6c-af98-ac0396ae1109"
      },
      "execution_count": 119,
      "outputs": [
        {
          "output_type": "stream",
          "name": "stdout",
          "text": [
            "１：夏目漱石\n",
            "２：森鴎外\n",
            "３：芥川龍之介\n",
            "著者を入力してください：3\n",
            "芥川龍之介が選択されました\n",
            "You -> 私は魚が好きです\n",
            "Bot -> 私はさほどの都会人種が住んでいるという意味がまるで出なかった事のできない人でなく、高き帽を被ってやって来た。\n",
            "You -> エリスはどうした\n",
            "Bot -> エリスは打笑みつゝこれを実行することゝなり、われと共に東にかへる心なきか、君が学問こそわが測り知る所ならね、語学のみにて、或日相沢は跡より来ても心持は同じ言葉を二、三名と共に、余を拉し去りて、理由もないと、剛気ある父の手蹟であって、上にもなかった。\n",
            "You -> \n",
            "Bot -> また会いましょう\n"
          ]
        }
      ]
    },
    {
      "cell_type": "code",
      "source": [
        ""
      ],
      "metadata": {
        "id": "zTR1R9h7_4nb"
      },
      "execution_count": 111,
      "outputs": []
    }
  ]
}