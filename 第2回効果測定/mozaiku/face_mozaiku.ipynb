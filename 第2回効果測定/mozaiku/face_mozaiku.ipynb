{
 "cells": [
  {
   "cell_type": "code",
   "execution_count": 1,
   "id": "641c5daf",
   "metadata": {},
   "outputs": [
    {
     "name": "stdout",
     "output_type": "stream",
     "text": [
      "モザイク処理をしたいmp4を入力してくださいkurosaki.mp4\n"
     ]
    }
   ],
   "source": [
    "import cv2\n",
    "import numpy as np\n",
    "\n",
    "# モザイク処理\n",
    "def mosaic(img):\n",
    "    # 画像の高さと幅を抽出\n",
    "    w = img.shape[1]\n",
    "    h = img.shape[0]\n",
    "\n",
    "    # 画像を縮小→拡大する\n",
    "    img = cv2.resize(img, (int(w * 0.05), int(h * 0.05)))\n",
    "    img = cv2.resize(img, (w, h), interpolation=cv2.INTER_NEAREST)\n",
    "\n",
    "    # 値を返す\n",
    "    return img\n",
    "\n",
    "\n",
    "# 顔を検出してモザイク処理をする\n",
    "def face_mosaic(video):\n",
    "    try:\n",
    "        # カスケードファイル「haarcascade_frontalface_default.xml」を指定\n",
    "        cascade_file = 'haarcascade_frontalface_default.xml'\n",
    "        cascade_face = cv2.CascadeClassifier(cascade_file)\n",
    "    except Exception as e:\n",
    "        print(e)\n",
    "        \n",
    "    # 動画の読み込み\n",
    "    movie = cv2.VideoCapture(video)\n",
    "\n",
    "    # 動画の幅と高さを取得\n",
    "    width = int(movie.get(cv2.CAP_PROP_FRAME_WIDTH))\n",
    "    height = int(movie.get(cv2.CAP_PROP_FRAME_HEIGHT))\n",
    "    size = (width, height)\n",
    "\n",
    "    # 全フレーム数(動画のもとになる静止画像の1コマ1コマ)を取得\n",
    "    frame_count = int(movie.get(cv2.CAP_PROP_FRAME_COUNT))\n",
    "\n",
    "    # フレームレート(1秒あたりのフレーム数)を取得\n",
    "    frame_rate = int(movie.get(cv2.CAP_PROP_FPS))\n",
    "\n",
    "    # mp4に設定\n",
    "    frame_mp4 = cv2.VideoWriter_fourcc('m', 'p', '4', 'v')\n",
    "    \n",
    "    # 動画ファイルとして保存する\n",
    "    writer = cv2.VideoWriter(video[:-4] + '_mosaic.mp4', frame_mp4, frame_rate, size)\n",
    "\n",
    "    for i in range(frame_count):\n",
    "        # フレームを取得\n",
    "        ret, frame = movie.read()\n",
    "\n",
    "        # グレースケール(白黒)変換\n",
    "        gray = cv2.cvtColor(frame, cv2.COLOR_BGR2GRAY)\n",
    "\n",
    "        # 顔検出を実行\n",
    "        try:\n",
    "            face = cascade_face.detectMultiScale(gray, scaleFactor=1.1, minNeighbors=3, minSize=(30, 30))\n",
    "        except:\n",
    "            print('ファイルが見つかりません')\n",
    "            break\n",
    "\n",
    "        # 顔領域を選択して処理\n",
    "        for (x, y, w, h) in face:\n",
    "            # 認識した部分の画像にモザイクをかける\n",
    "            frame[y:y+h, x:x+w] = mosaic(frame[y:y+h, x:x+w])\n",
    "\n",
    "            # 画像を1フレーム分として書き込み\n",
    "            writer.write(frame)\n",
    "\n",
    "    # 動画を閉じる\n",
    "    writer.release()\n",
    "    movie.release()\n",
    "    cv2.destroyAllWindows()\n",
    "\n",
    "# メイン処理\n",
    "if __name__ == '__main__':\n",
    "    video = input('モザイク処理をしたいmp4を入力してください')\n",
    "    face_mosaic(video)"
   ]
  }
 ],
 "metadata": {
  "kernelspec": {
   "display_name": "Python 3 (ipykernel)",
   "language": "python",
   "name": "python3"
  },
  "language_info": {
   "codemirror_mode": {
    "name": "ipython",
    "version": 3
   },
   "file_extension": ".py",
   "mimetype": "text/x-python",
   "name": "python",
   "nbconvert_exporter": "python",
   "pygments_lexer": "ipython3",
   "version": "3.9.12"
  }
 },
 "nbformat": 4,
 "nbformat_minor": 5
}
