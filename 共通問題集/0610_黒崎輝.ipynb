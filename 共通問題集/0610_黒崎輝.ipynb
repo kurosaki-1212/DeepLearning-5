{
  "cells": [
    {
      "cell_type": "markdown",
      "source": [
        "# 6-3"
      ],
      "metadata": {
        "id": "EnPWMUlgU5R0"
      },
      "id": "EnPWMUlgU5R0"
    },
    {
      "cell_type": "code",
      "execution_count": 7,
      "id": "7ee60718",
      "metadata": {
        "colab": {
          "base_uri": "https://localhost:8080/"
        },
        "id": "7ee60718",
        "outputId": "d775cf6f-156a-4924-af9f-9a45723db989"
      },
      "outputs": [
        {
          "output_type": "stream",
          "name": "stdout",
          "text": [
            "1 2 3 4 5 6 7 8 9 10 "
          ]
        }
      ],
      "source": [
        "for i in range(10):\n",
        "    print(i+1, end = ' ')"
      ]
    },
    {
      "cell_type": "markdown",
      "source": [
        "# 6-6"
      ],
      "metadata": {
        "id": "fUgwittrVZfg"
      },
      "id": "fUgwittrVZfg"
    },
    {
      "cell_type": "code",
      "source": [
        "start = int(input(\"開始数\"))\n",
        "end = int(input(\"終了数\"))\n",
        "\n",
        "for i in range(start,end-1):\n",
        "    start += i + 1\n",
        "print('合計：' + str(start))"
      ],
      "metadata": {
        "colab": {
          "base_uri": "https://localhost:8080/"
        },
        "id": "pbHRHo6hVLEz",
        "outputId": "efacbe8d-de1f-4d32-9723-0e4a91d9fedf"
      },
      "id": "pbHRHo6hVLEz",
      "execution_count": 12,
      "outputs": [
        {
          "output_type": "stream",
          "name": "stdout",
          "text": [
            "開始数30\n",
            "終了数100\n",
            "合計：4515\n"
          ]
        }
      ]
    },
    {
      "cell_type": "markdown",
      "source": [
        "# 6-8"
      ],
      "metadata": {
        "id": "9OpXjQbYVdwM"
      },
      "id": "9OpXjQbYVdwM"
    },
    {
      "cell_type": "code",
      "source": [
        "for i in reversed(range(1,10)):\n",
        "  print(i, \"の段\", sep=\"\")\n",
        "  for j in reversed(range(1,10)):\n",
        "    print(i, \"×\", j, \"=\", i * j)"
      ],
      "metadata": {
        "colab": {
          "base_uri": "https://localhost:8080/"
        },
        "id": "p7ooeB7fVfPX",
        "outputId": "1bc3e97e-8405-4c22-b814-ceea3effc923"
      },
      "id": "p7ooeB7fVfPX",
      "execution_count": 88,
      "outputs": [
        {
          "output_type": "stream",
          "name": "stdout",
          "text": [
            "9の段\n",
            "9 × 9 = 81\n",
            "9 × 8 = 72\n",
            "9 × 7 = 63\n",
            "9 × 6 = 54\n",
            "9 × 5 = 45\n",
            "9 × 4 = 36\n",
            "9 × 3 = 27\n",
            "9 × 2 = 18\n",
            "9 × 1 = 9\n",
            "8の段\n",
            "8 × 9 = 72\n",
            "8 × 8 = 64\n",
            "8 × 7 = 56\n",
            "8 × 6 = 48\n",
            "8 × 5 = 40\n",
            "8 × 4 = 32\n",
            "8 × 3 = 24\n",
            "8 × 2 = 16\n",
            "8 × 1 = 8\n",
            "7の段\n",
            "7 × 9 = 63\n",
            "7 × 8 = 56\n",
            "7 × 7 = 49\n",
            "7 × 6 = 42\n",
            "7 × 5 = 35\n",
            "7 × 4 = 28\n",
            "7 × 3 = 21\n",
            "7 × 2 = 14\n",
            "7 × 1 = 7\n",
            "6の段\n",
            "6 × 9 = 54\n",
            "6 × 8 = 48\n",
            "6 × 7 = 42\n",
            "6 × 6 = 36\n",
            "6 × 5 = 30\n",
            "6 × 4 = 24\n",
            "6 × 3 = 18\n",
            "6 × 2 = 12\n",
            "6 × 1 = 6\n",
            "5の段\n",
            "5 × 9 = 45\n",
            "5 × 8 = 40\n",
            "5 × 7 = 35\n",
            "5 × 6 = 30\n",
            "5 × 5 = 25\n",
            "5 × 4 = 20\n",
            "5 × 3 = 15\n",
            "5 × 2 = 10\n",
            "5 × 1 = 5\n",
            "4の段\n",
            "4 × 9 = 36\n",
            "4 × 8 = 32\n",
            "4 × 7 = 28\n",
            "4 × 6 = 24\n",
            "4 × 5 = 20\n",
            "4 × 4 = 16\n",
            "4 × 3 = 12\n",
            "4 × 2 = 8\n",
            "4 × 1 = 4\n",
            "3の段\n",
            "3 × 9 = 27\n",
            "3 × 8 = 24\n",
            "3 × 7 = 21\n",
            "3 × 6 = 18\n",
            "3 × 5 = 15\n",
            "3 × 4 = 12\n",
            "3 × 3 = 9\n",
            "3 × 2 = 6\n",
            "3 × 1 = 3\n",
            "2の段\n",
            "2 × 9 = 18\n",
            "2 × 8 = 16\n",
            "2 × 7 = 14\n",
            "2 × 6 = 12\n",
            "2 × 5 = 10\n",
            "2 × 4 = 8\n",
            "2 × 3 = 6\n",
            "2 × 2 = 4\n",
            "2 × 1 = 2\n",
            "1の段\n",
            "1 × 9 = 9\n",
            "1 × 8 = 8\n",
            "1 × 7 = 7\n",
            "1 × 6 = 6\n",
            "1 × 5 = 5\n",
            "1 × 4 = 4\n",
            "1 × 3 = 3\n",
            "1 × 2 = 2\n",
            "1 × 1 = 1\n"
          ]
        }
      ]
    },
    {
      "cell_type": "markdown",
      "source": [
        "# 6-9"
      ],
      "metadata": {
        "id": "ceZKjwhmVf07"
      },
      "id": "ceZKjwhmVf07"
    },
    {
      "cell_type": "code",
      "source": [
        "for i in reversed(range(1,10)):\n",
        "  if i % 2 == 1:\n",
        "    print(i, \"の段\", sep=\"\")\n",
        "  for j in reversed(range(1,10)):\n",
        "    if i % 2 == 1:\n",
        "      print(i, \"×\", j, \"=\", i * j)"
      ],
      "metadata": {
        "id": "C6U5WhcmVhLN"
      },
      "id": "C6U5WhcmVhLN",
      "execution_count": null,
      "outputs": []
    },
    {
      "cell_type": "markdown",
      "source": [
        "# 6-10"
      ],
      "metadata": {
        "id": "0XwK7gKuViPs"
      },
      "id": "0XwK7gKuViPs"
    },
    {
      "cell_type": "code",
      "source": [
        "print('直角三角形を描画します')\n",
        "print('2～20までの整数値を入力してください')\n",
        "length = int(input('底辺の長さを入力：'))\n",
        "\n",
        "count = 1\n",
        "\n",
        "if length > 1 and length < 21:\n",
        "  for i in range(length):\n",
        "    print('*' * count)\n",
        "    count += 1"
      ],
      "metadata": {
        "colab": {
          "base_uri": "https://localhost:8080/"
        },
        "id": "fxfrJOkyVjZx",
        "outputId": "c93b8ccc-879d-48bc-a60e-c2a7cfc3e6c6"
      },
      "id": "fxfrJOkyVjZx",
      "execution_count": 24,
      "outputs": [
        {
          "output_type": "stream",
          "name": "stdout",
          "text": [
            "直角三角形を描画します\n",
            "2～20までの整数値を入力してください\n",
            "底辺の長さを入力：5\n",
            "*\n",
            "**\n",
            "***\n",
            "****\n",
            "*****\n"
          ]
        }
      ]
    },
    {
      "cell_type": "markdown",
      "source": [
        "# 6-14"
      ],
      "metadata": {
        "id": "dM_U0eDOYuVK"
      },
      "id": "dM_U0eDOYuVK"
    },
    {
      "cell_type": "code",
      "source": [
        "num = int(input('入力値：'))\n",
        "if num <= 1:\n",
        "    print(False)\n",
        "else:\n",
        "  for i in range(2, int(num**0.5) + 1):\n",
        "    if num % i == 0:\n",
        "      print(str(num) + 'は素数ではありません')\n",
        "      break\n",
        "    else:\n",
        "      print(str(num) + 'は素数です')\n",
        "      break"
      ],
      "metadata": {
        "colab": {
          "base_uri": "https://localhost:8080/"
        },
        "id": "npMaJ_BgYbHH",
        "outputId": "95c70edf-86e5-4a2d-d8b9-10a9394aa55c"
      },
      "id": "npMaJ_BgYbHH",
      "execution_count": 39,
      "outputs": [
        {
          "output_type": "stream",
          "name": "stdout",
          "text": [
            "入力値：6\n",
            "6は素数ではありません\n"
          ]
        }
      ]
    },
    {
      "cell_type": "markdown",
      "source": [
        "# 7-1"
      ],
      "metadata": {
        "id": "JPcKngdpag5F"
      },
      "id": "JPcKngdpag5F"
    },
    {
      "cell_type": "code",
      "source": [
        "m = 0\n",
        "n = 1\n",
        "while n <= 100:\n",
        "    m = m + n\n",
        "    n = n + 1\n",
        "print(m)\n"
      ],
      "metadata": {
        "colab": {
          "base_uri": "https://localhost:8080/"
        },
        "id": "kF3ShLXzaiHf",
        "outputId": "75127a55-dd88-421f-b8c0-37a6e755bf1b"
      },
      "id": "kF3ShLXzaiHf",
      "execution_count": 40,
      "outputs": [
        {
          "output_type": "stream",
          "name": "stdout",
          "text": [
            "5050\n"
          ]
        }
      ]
    },
    {
      "cell_type": "markdown",
      "source": [
        "# 7-4"
      ],
      "metadata": {
        "id": "mZ7FAUKdauNn"
      },
      "id": "mZ7FAUKdauNn"
    },
    {
      "cell_type": "code",
      "source": [
        "n = 1\n",
        "m = 0\n",
        "\n",
        "while m <= 100000:\n",
        "    m = n + n\n",
        "    n = n + 1\n",
        "print(n-1)\n"
      ],
      "metadata": {
        "colab": {
          "base_uri": "https://localhost:8080/"
        },
        "id": "btAUXRmeavo5",
        "outputId": "1c09c7e6-e513-4488-d4bc-4832374efb6d"
      },
      "id": "btAUXRmeavo5",
      "execution_count": 41,
      "outputs": [
        {
          "output_type": "stream",
          "name": "stdout",
          "text": [
            "50001\n"
          ]
        }
      ]
    },
    {
      "cell_type": "markdown",
      "source": [
        "# 7-8"
      ],
      "metadata": {
        "id": "pQmniRBKawJk"
      },
      "id": "pQmniRBKawJk"
    },
    {
      "cell_type": "code",
      "source": [
        "a = 0\n",
        "b = 1\n",
        "while a < 1000:\n",
        "  print(a, end=',')\n",
        "  a, b = b, a+b"
      ],
      "metadata": {
        "colab": {
          "base_uri": "https://localhost:8080/"
        },
        "id": "FZd-IXhIaxf1",
        "outputId": "80b1d1ae-61ed-4ee4-cadd-d73c55c4a747"
      },
      "id": "FZd-IXhIaxf1",
      "execution_count": 89,
      "outputs": [
        {
          "output_type": "stream",
          "name": "stdout",
          "text": [
            "0,1,1,2,3,5,8,13,21,34,55,89,144,233,377,610,987,"
          ]
        }
      ]
    },
    {
      "cell_type": "markdown",
      "source": [
        "# 8-14"
      ],
      "metadata": {
        "id": "23uydBzmdv0G"
      },
      "id": "23uydBzmdv0G"
    },
    {
      "cell_type": "code",
      "source": [
        "dic = {'野菜':'季節', 'キャベツ':'春', 'スイカ':'夏', 'ナス':'秋', 'ハクサイ':'冬'}\n",
        "\n",
        "for key, value in dic.items():\n",
        "  print(key + ':' + value)"
      ],
      "metadata": {
        "colab": {
          "base_uri": "https://localhost:8080/"
        },
        "id": "ZIsMwdNrbbuE",
        "outputId": "268869b9-786c-4ed9-8665-69df349ac2cd"
      },
      "id": "ZIsMwdNrbbuE",
      "execution_count": 72,
      "outputs": [
        {
          "output_type": "stream",
          "name": "stdout",
          "text": [
            "野菜:季節\n",
            "キャベツ:春\n",
            "スイカ:夏\n",
            "ナス:秋\n",
            "ハクサイ:冬\n"
          ]
        }
      ]
    },
    {
      "cell_type": "markdown",
      "source": [
        "# 8-18"
      ],
      "metadata": {
        "id": "gRRw4LPAdx2W"
      },
      "id": "gRRw4LPAdx2W"
    },
    {
      "cell_type": "code",
      "source": [
        "def stock(dic):\n",
        "  sum = 0\n",
        "  for key, value in dic.items():\n",
        "    print('{}:{}個'.format(key, value))\n",
        "    sum += value\n",
        "  print('平均:{:.0f}個'.format(sum/3))\n",
        "\n",
        "dic = {'商品A':500, '商品B':2030, '商品C':1980}\n",
        "print('＜現在の在庫＞')\n",
        "stock(dic)\n",
        "\n",
        "dic['商品A'] = 450\n",
        "dic['商品B'] = 1580\n",
        "dic['商品C'] = 1520\n",
        "\n",
        "print('＜販売数反映後の在庫＞')\n",
        "stock(dic)"
      ],
      "metadata": {
        "colab": {
          "base_uri": "https://localhost:8080/"
        },
        "id": "ZDHJ16zedyzW",
        "outputId": "85187a86-3e88-4cdf-8b48-a03fdbb24641"
      },
      "id": "ZDHJ16zedyzW",
      "execution_count": 87,
      "outputs": [
        {
          "output_type": "stream",
          "name": "stdout",
          "text": [
            "＜現在の在庫＞\n",
            "商品A:500個\n",
            "商品B:2030個\n",
            "商品C:1980個\n",
            "平均:1503個\n",
            "＜販売数反映後の在庫＞\n",
            "商品A:450個\n",
            "商品B:1580個\n",
            "商品C:1520個\n",
            "平均:1183個\n"
          ]
        }
      ]
    },
    {
      "cell_type": "markdown",
      "source": [
        "# 9-1"
      ],
      "metadata": {
        "id": "MVntBwWekhmP"
      },
      "id": "MVntBwWekhmP"
    },
    {
      "cell_type": "code",
      "source": [
        "def myprofile(school, name):\n",
        "  print('学校名：' + school)\n",
        "  print('名前：' + name)\n",
        "\n",
        "myprofile('東京情報クリエイター工学院専門学校', '黒崎輝')"
      ],
      "metadata": {
        "colab": {
          "base_uri": "https://localhost:8080/"
        },
        "id": "lATWa5b3kkjr",
        "outputId": "24618b41-7076-4447-8240-7bf2a426ca78"
      },
      "id": "lATWa5b3kkjr",
      "execution_count": 90,
      "outputs": [
        {
          "output_type": "stream",
          "name": "stdout",
          "text": [
            "学校名：東京情報クリエイター工学院専門学校\n",
            "名前：黒崎輝\n"
          ]
        }
      ]
    },
    {
      "cell_type": "markdown",
      "source": [
        "# 9-2"
      ],
      "metadata": {
        "id": "Ss4u-Lo5kk40"
      },
      "id": "Ss4u-Lo5kk40"
    },
    {
      "cell_type": "code",
      "source": [
        "def hello():\n",
        "  print('Hello\\n' * 10)\n",
        "\n",
        "hello()"
      ],
      "metadata": {
        "colab": {
          "base_uri": "https://localhost:8080/"
        },
        "id": "4T1oGbdXkmnY",
        "outputId": "bda5c9fa-6376-4007-d5c1-47bfd50590bb"
      },
      "id": "4T1oGbdXkmnY",
      "execution_count": 96,
      "outputs": [
        {
          "output_type": "stream",
          "name": "stdout",
          "text": [
            "Hello\n",
            "Hello\n",
            "Hello\n",
            "Hello\n",
            "Hello\n",
            "Hello\n",
            "Hello\n",
            "Hello\n",
            "Hello\n",
            "Hello\n",
            "\n"
          ]
        }
      ]
    },
    {
      "cell_type": "markdown",
      "source": [
        "# 9-3"
      ],
      "metadata": {
        "id": "QrL7k7LeknGe"
      },
      "id": "QrL7k7LeknGe"
    },
    {
      "cell_type": "code",
      "source": [
        "def greeting(str_gree, num):\n",
        "  print(str_gree * num, end= '')\n",
        "\n",
        "greeting('Hello\\n', 3)\n",
        "greeting('Good morning\\n', 4)\n",
        "greeting('Good evening\\n', 2)"
      ],
      "metadata": {
        "colab": {
          "base_uri": "https://localhost:8080/"
        },
        "id": "ztq0tWLtkoDq",
        "outputId": "85bba195-3af7-494a-e3ba-87d1993bbd90"
      },
      "id": "ztq0tWLtkoDq",
      "execution_count": 105,
      "outputs": [
        {
          "output_type": "stream",
          "name": "stdout",
          "text": [
            "Hello\n",
            "Hello\n",
            "Hello\n",
            "Good morning\n",
            "Good morning\n",
            "Good morning\n",
            "Good morning\n",
            "Good evening\n",
            "Good evening\n"
          ]
        }
      ]
    },
    {
      "cell_type": "markdown",
      "source": [
        "# 9-9"
      ],
      "metadata": {
        "id": "FDhi_wVgkopF"
      },
      "id": "FDhi_wVgkopF"
    },
    {
      "cell_type": "code",
      "source": [
        "import math\n",
        "\n",
        "def Circumference(num):\n",
        "  print('半径{}の円の円周は{:.2f}'.format(num, num * 2 * math.pi))\n",
        "\n",
        "def area(num):\n",
        "  print('半径{}の円の面積は{:.2f}'.format(num, num * num * math.pi))\n",
        "\n",
        "radius = float(input('半径を入力してください'))\n",
        "Circumference(radius)\n",
        "area(radius)"
      ],
      "metadata": {
        "colab": {
          "base_uri": "https://localhost:8080/"
        },
        "id": "U_f2cd_AkpaL",
        "outputId": "677bd35b-9d6b-40c0-b930-80c6dcd523bd"
      },
      "id": "U_f2cd_AkpaL",
      "execution_count": 128,
      "outputs": [
        {
          "output_type": "stream",
          "name": "stdout",
          "text": [
            "半径を入力してください4.7\n",
            "半径4.7の円の円周は29.53\n",
            "半径4.7の円の面積は69.40\n"
          ]
        }
      ]
    }
  ],
  "metadata": {
    "kernelspec": {
      "display_name": "Python 3 (ipykernel)",
      "language": "python",
      "name": "python3"
    },
    "language_info": {
      "codemirror_mode": {
        "name": "ipython",
        "version": 3
      },
      "file_extension": ".py",
      "mimetype": "text/x-python",
      "name": "python",
      "nbconvert_exporter": "python",
      "pygments_lexer": "ipython3",
      "version": "3.9.12"
    },
    "colab": {
      "name": "0610_黒崎輝.ipynb",
      "provenance": [],
      "collapsed_sections": [
        "EnPWMUlgU5R0",
        "fUgwittrVZfg",
        "9OpXjQbYVdwM",
        "ceZKjwhmVf07",
        "0XwK7gKuViPs",
        "dM_U0eDOYuVK",
        "JPcKngdpag5F",
        "mZ7FAUKdauNn",
        "pQmniRBKawJk",
        "23uydBzmdv0G",
        "gRRw4LPAdx2W",
        "MVntBwWekhmP"
      ]
    }
  },
  "nbformat": 4,
  "nbformat_minor": 5
}