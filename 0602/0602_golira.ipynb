{
 "cells": [
  {
   "cell_type": "markdown",
   "id": "da554d35",
   "metadata": {},
   "source": [
    "# 何も確認せずにまず以下を実行してみましょう！！"
   ]
  },
  {
   "cell_type": "code",
   "execution_count": 1,
   "id": "8ccd2cbc",
   "metadata": {},
   "outputs": [
    {
     "name": "stdout",
     "output_type": "stream",
     "text": [
      "ok\n"
     ]
    }
   ],
   "source": [
    "# fishvideo_extract_diff.py\n",
    "import cv2, os\n",
    "\n",
    "img_last = None # 前回の画像\n",
    "no = 0 # 画像の枚数\n",
    "save_dir = \"./exgolira\" # 保存ディレクトリ名\n",
    "\n",
    "# exgoliraフォルダが作成済みの場合エラーになってしまうので注意\n",
    "os.mkdir(save_dir) # ディレクトリを作成\n",
    "\n",
    "# 動画ファイルから入力を開始\n",
    "cap = cv2.VideoCapture(\"golira.mp4\")\n",
    "while True:\n",
    "    # 画像を取得\n",
    "    is_ok, frame = cap.read()\n",
    "    # is_okにはread()の結果が入っていて、Trueなら正常、Falseなら異常\n",
    "    # not(is_ok==True):break という意味\n",
    "    if not is_ok: break\n",
    "    frame = cv2.resize(frame, (640, 360))\n",
    "    # 白黒画像に変換\n",
    "    gray = cv2.cvtColor(frame, cv2.COLOR_BGR2GRAY)\n",
    "    gray = cv2.GaussianBlur(gray, (15, 15), 0)\n",
    "    img_b = cv2.threshold(gray, 127, 255, cv2.THRESH_BINARY)[1]\n",
    "    # 差分を確認する\n",
    "    if not img_last is None:\n",
    "        #absdiffは２枚の画像の差分の絶対値を取得する      \n",
    "        # 前のコマと今のコマを比較する\n",
    "        frame_diff = cv2.absdiff(img_last, img_b)\n",
    "        cnts = cv2.findContours(frame_diff, \n",
    "            cv2.RETR_EXTERNAL,\n",
    "            cv2.CHAIN_APPROX_SIMPLE)[0]\n",
    "        # 差分があった領域をファイルに出力\n",
    "        for pt in cnts:\n",
    "            x, y, w, h = cv2.boundingRect(pt)\n",
    "            if w < 100 or w > 500: continue # ノイズを除去\n",
    "            # 抽出した領域を画像として保存\n",
    "            imgex = frame[y:y+h, x:x+w]\n",
    "            # ファイル名の相対パス\n",
    "            outfile = save_dir + \"/\" + str(no) + \".jpg\"\n",
    "            # 　　　　　　　　　　↓切り出して変化があった部分\n",
    "            cv2.imwrite(outfile, imgex)\n",
    "            no += 1\n",
    "    img_last = img_b\n",
    "cap.release()\n",
    "print(\"ok\")\n"
   ]
  },
  {
   "cell_type": "markdown",
   "id": "3771e672",
   "metadata": {},
   "source": [
    "## glob について調べよう\n",
    "\n",
    "https://note.nkmk.me/python-glob-usage/"
   ]
  },
  {
   "cell_type": "code",
   "execution_count": 5,
   "id": "729bfc1d",
   "metadata": {},
   "outputs": [
    {
     "name": "stdout",
     "output_type": "stream",
     "text": [
      "0.9191919191919192\n"
     ]
    }
   ],
   "source": [
    "# fish_train.py\n",
    "import cv2\n",
    "import os, glob, pickle\n",
    "from sklearn.model_selection import train_test_split\n",
    "from sklearn import datasets, metrics\n",
    "from sklearn.ensemble import RandomForestClassifier\n",
    "from sklearn.metrics import accuracy_score\n",
    "\n",
    "# 画像の学習サイズやパスを指定\n",
    "image_size = (64, 32)\n",
    "\n",
    "# 実行中のフォルダのフルパス\n",
    "# path = os.path.dirname(os.path.abspath(__file__))\n",
    "# \\→/に変更して自分の実行中のフォルダのフルパスをpathに代入する\n",
    "# 例）\n",
    "path = 'C:\\\\Users\\\\k_kurosaki\\\\AIFW2\\\\0602'\n",
    "\n",
    "path_fish = path + '/golira'\n",
    "path_nofish = path + '/nogolira'\n",
    "x = [] # 画像データ\n",
    "y = [] # ラベルデータ\n",
    "\n",
    "# 画像データを読み込んで配列に追加\n",
    "def read_dir(path, label):\n",
    "    # glob.glob(引数)：引数のパスの中から、条件に合致するファイルを全部持ってくる\n",
    "    # *(ワイルドカード)：1文字以上の文字列(どんな文字でもok)\n",
    "    files = glob.glob(path + \"/*.jpg\")\n",
    "    for f in files:\n",
    "        img = cv2.imread(f)\n",
    "        img = cv2.resize(img, image_size)\n",
    "        img_data = img.reshape(-1, ) # 一次元に展開\n",
    "        # x：特徴量、y：正解データ\n",
    "        x.append(img_data)\n",
    "        y.append(label)\n",
    "\n",
    "# 画像データを読み込む\n",
    "read_dir(path_nofish, 0)\n",
    "read_dir(path_fish, 1)\n",
    "\n",
    "# データを学習用とテスト用に分割する\n",
    "x_train, x_test, y_train, y_test = train_test_split(x, y, test_size=0.2)\n",
    "\n",
    "# データを学習\n",
    "clf = RandomForestClassifier()\n",
    "clf.fit(x_train, y_train)\n",
    "\n",
    "# 精度の確認\n",
    "y_pred = clf.predict(x_test)\n",
    "print(accuracy_score(y_test, y_pred))\n",
    "\n",
    "# データを保存\n",
    "with open(\"golira.pkl\", \"wb\") as fp:\n",
    "  pickle.dump(clf, fp)\n"
   ]
  },
  {
   "cell_type": "code",
   "execution_count": null,
   "id": "e19d9b35",
   "metadata": {},
   "outputs": [],
   "source": []
  }
 ],
 "metadata": {
  "kernelspec": {
   "display_name": "Python 3 (ipykernel)",
   "language": "python",
   "name": "python3"
  },
  "language_info": {
   "codemirror_mode": {
    "name": "ipython",
    "version": 3
   },
   "file_extension": ".py",
   "mimetype": "text/x-python",
   "name": "python",
   "nbconvert_exporter": "python",
   "pygments_lexer": "ipython3",
   "version": "3.9.12"
  }
 },
 "nbformat": 4,
 "nbformat_minor": 5
}
