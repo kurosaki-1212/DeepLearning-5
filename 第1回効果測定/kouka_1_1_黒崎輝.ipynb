{
 "cells": [
  {
   "cell_type": "markdown",
   "id": "6XMQVIfEKed-",
   "metadata": {
    "id": "6XMQVIfEKed-"
   },
   "source": [
    "# AI-FW2 効果測定1 問題1"
   ]
  },
  {
   "cell_type": "markdown",
   "id": "APEiIWPlYPsS",
   "metadata": {
    "id": "APEiIWPlYPsS"
   },
   "source": [
    "google colaboratoryに\"kouka_1_1_data.zip\"をアップロードし、下記のセルを実行してデータを解凍してください"
   ]
  },
  {
   "cell_type": "code",
   "execution_count": null,
   "id": "303fdcbe",
   "metadata": {
    "id": "303fdcbe"
   },
   "outputs": [],
   "source": [
    "!unzip \"kouka_1_1_data.zip\""
   ]
  },
  {
   "cell_type": "markdown",
   "id": "aafda99a",
   "metadata": {
    "id": "aafda99a"
   },
   "source": [
    "## 要求事項(1)"
   ]
  },
  {
   "cell_type": "code",
   "execution_count": 2,
   "id": "6f7b83b9",
   "metadata": {
    "executionInfo": {
     "elapsed": 1840,
     "status": "ok",
     "timestamp": 1640074890465,
     "user": {
      "displayName": "辻本秀樹",
      "photoUrl": "https://lh3.googleusercontent.com/a/default-user=s64",
      "userId": "00583032237073523999"
     },
     "user_tz": -540
    },
    "id": "6f7b83b9"
   },
   "outputs": [],
   "source": [
    "# ライブラリのインポート\n",
    "import pandas as pd\n",
    "import cv2\n",
    "from sklearn.model_selection import train_test_split\n",
    "from sklearn import datasets, svm, metrics\n",
    "from sklearn.metrics import accuracy_score\n",
    "import pickle"
   ]
  },
  {
   "cell_type": "markdown",
   "id": "b69362a5",
   "metadata": {
    "id": "b69362a5"
   },
   "source": [
    "画像ファイルを1次元のndarrayに変換する関数を準備しておく"
   ]
  },
  {
   "cell_type": "code",
   "execution_count": 3,
   "id": "f25bf96b",
   "metadata": {
    "executionInfo": {
     "elapsed": 7,
     "status": "ok",
     "timestamp": 1640074890466,
     "user": {
      "displayName": "辻本秀樹",
      "photoUrl": "https://lh3.googleusercontent.com/a/default-user=s64",
      "userId": "00583032237073523999"
     },
     "user_tz": -540
    },
    "id": "f25bf96b"
   },
   "outputs": [],
   "source": [
    "# * 引数 filename ... 画像ファイルのパスを受け取る\n",
    "# * 戻り値 ... 画像を1次元配列にした結果を返す\n",
    "def image2array(filename):\n",
    "    # 自分で用意した手書きの画像ファイルを読み込む\n",
    "    my_img = cv2.imread(filename)\n",
    "\n",
    "    # 画像データを学習用に加工する\n",
    "\n",
    "    # 画像をグレースケールにする\n",
    "    my_img = cv2.cvtColor(my_img, cv2.COLOR_BGR2GRAY)\n",
    "    \n",
    "    # 画像を32×32にリサイズする(使用する画像は元から32×32の大きさだが処理を記載すること)\n",
    "    my_img = cv2.resize(my_img, (32, 32))\n",
    "    \n",
    "    # 画像を白黒反転する\n",
    "    my_img = 15 - my_img // 16\n",
    "    \n",
    "    # 二次元を一次元に変換する(データ数は32×32個となる)\n",
    "    my_img = my_img.reshape((-1, 32*32))\n",
    "\n",
    "    return my_img"
   ]
  },
  {
   "cell_type": "markdown",
   "id": "4e90968d",
   "metadata": {
    "id": "4e90968d"
   },
   "source": [
    "特徴量X、正解データyのデータを作成する"
   ]
  },
  {
   "cell_type": "code",
   "execution_count": 4,
   "id": "f819be14",
   "metadata": {
    "colab": {
     "base_uri": "https://localhost:8080/",
     "height": 0
    },
    "executionInfo": {
     "elapsed": 1676,
     "status": "ok",
     "timestamp": 1640074892136,
     "user": {
      "displayName": "辻本秀樹",
      "photoUrl": "https://lh3.googleusercontent.com/a/default-user=s64",
      "userId": "00583032237073523999"
     },
     "user_tz": -540
    },
    "id": "f819be14",
    "outputId": "d8d2303f-af3f-46f3-c522-6b1e10cb4fc3"
   },
   "outputs": [
    {
     "name": "stdout",
     "output_type": "stream",
     "text": [
      "                   filename target\n",
      "0  ./traindata/61_00000.png      a\n",
      "1  ./traindata/61_00001.png      a\n",
      "2  ./traindata/61_00002.png      a\n",
      "3  ./traindata/61_00003.png      a\n",
      "4  ./traindata/61_00004.png      a\n"
     ]
    }
   ],
   "source": [
    "# ファイルの一覧(index_train.csv)を読み込み、データフレームを作成する\n",
    "df_index = pd.read_csv('index_train.csv')\n",
    "print(df_index.head())\n",
    "\n",
    "# 読み込んだデータフレームのファイル名で画像ファイルを読み込み、特徴量Xに代入する\n",
    "# 空のデータフレームを作成しておく\n",
    "X = pd.DataFrame()\n",
    "\n",
    "# forで1レコードずつ取り出す\n",
    "for index, row in df_index.iterrows():\n",
    "    # 作成したimage2array関数を使い、画像を一次元配列に変換する\n",
    "    ret = image2array(row['filename'])\n",
    "\n",
    "    # 変換後の配列(ndarray型)からDataFrameを生成し、特徴量Xに追加する\n",
    "    X = X.append(pd.DataFrame(ret))\n",
    "\n",
    "# 読み込んだデータフレームのtarget列を、正解データyに代入する\n",
    "y = df_index['target']"
   ]
  },
  {
   "cell_type": "markdown",
   "id": "423a5089",
   "metadata": {
    "id": "423a5089"
   },
   "source": [
    "学習の実行と評価"
   ]
  },
  {
   "cell_type": "code",
   "execution_count": 5,
   "id": "00c2d810",
   "metadata": {
    "colab": {
     "base_uri": "https://localhost:8080/",
     "height": 0
    },
    "executionInfo": {
     "elapsed": 445,
     "status": "ok",
     "timestamp": 1640074892579,
     "user": {
      "displayName": "辻本秀樹",
      "photoUrl": "https://lh3.googleusercontent.com/a/default-user=s64",
      "userId": "00583032237073523999"
     },
     "user_tz": -540
    },
    "id": "00c2d810",
    "outputId": "44b6d4e1-828c-43d6-efdc-c2d4c406d595"
   },
   "outputs": [
    {
     "name": "stdout",
     "output_type": "stream",
     "text": [
      "0.8317535545023697\n"
     ]
    }
   ],
   "source": [
    "# 特徴量X、正解データyをデータを学習用とテスト用に分割する\n",
    "# テスト用データは全体の20%とする\n",
    "# 乱数シードは0とする\n",
    "X_train, X_test, y_train, y_test = train_test_split(X, y, test_size=0.2,random_state=0)\n",
    "\n",
    "# SVCのモデルを生成する\n",
    "# 乱数シードは0とする\n",
    "clf = svm.SVC(random_state=0)\n",
    "\n",
    "# 学習用データを学習する\n",
    "clf.fit(X_train, y_train)\n",
    "\n",
    "# テスト用データで予測して精度を確認する\n",
    "y_pred = clf.predict(X_test)\n",
    "print(accuracy_score(y_test, y_pred))"
   ]
  },
  {
   "cell_type": "markdown",
   "id": "ea4297bf",
   "metadata": {
    "id": "ea4297bf"
   },
   "source": [
    "▶実行結果  \n",
    "0.8317535545023697"
   ]
  },
  {
   "cell_type": "code",
   "execution_count": 6,
   "id": "iwtxay9QVrym",
   "metadata": {
    "executionInfo": {
     "elapsed": 7,
     "status": "ok",
     "timestamp": 1640074892579,
     "user": {
      "displayName": "辻本秀樹",
      "photoUrl": "https://lh3.googleusercontent.com/a/default-user=s64",
      "userId": "00583032237073523999"
     },
     "user_tz": -540
    },
    "id": "iwtxay9QVrym"
   },
   "outputs": [],
   "source": [
    "# 学習済みモデルを「kouka_1_model_氏名pkl」として保存する\n",
    "with open('kouka_1_model_stu.pkl', 'wb') as fp:\n",
    "    pickle.dump(clf, fp)"
   ]
  },
  {
   "cell_type": "markdown",
   "id": "0092a253",
   "metadata": {
    "id": "0092a253"
   },
   "source": [
    "## 要求事項(2)"
   ]
  },
  {
   "cell_type": "code",
   "execution_count": 7,
   "id": "5251ab40",
   "metadata": {
    "executionInfo": {
     "elapsed": 7,
     "status": "ok",
     "timestamp": 1640074892580,
     "user": {
      "displayName": "辻本秀樹",
      "photoUrl": "https://lh3.googleusercontent.com/a/default-user=s64",
      "userId": "00583032237073523999"
     },
     "user_tz": -540
    },
    "id": "5251ab40"
   },
   "outputs": [],
   "source": [
    "# ファイルの一覧取得で使用するライブラリをインポートする\n",
    "import glob\n",
    "from natsort import natsorted"
   ]
  },
  {
   "cell_type": "code",
   "execution_count": 8,
   "id": "7e122e9d",
   "metadata": {
    "executionInfo": {
     "elapsed": 7,
     "status": "ok",
     "timestamp": 1640074892580,
     "user": {
      "displayName": "辻本秀樹",
      "photoUrl": "https://lh3.googleusercontent.com/a/default-user=s64",
      "userId": "00583032237073523999"
     },
     "user_tz": -540
    },
    "id": "7e122e9d"
   },
   "outputs": [],
   "source": [
    "# 必要に応じて学習済みモデルを読み込む\n",
    "with open('sample_model.pkl', 'rb') as fp:\n",
    "    clf = pickle.load(fp)"
   ]
  },
  {
   "cell_type": "code",
   "execution_count": 9,
   "id": "09bbb199",
   "metadata": {
    "executionInfo": {
     "elapsed": 7,
     "status": "ok",
     "timestamp": 1640074892581,
     "user": {
      "displayName": "辻本秀樹",
      "photoUrl": "https://lh3.googleusercontent.com/a/default-user=s64",
      "userId": "00583032237073523999"
     },
     "user_tz": -540
    },
    "id": "09bbb199"
   },
   "outputs": [],
   "source": [
    "# ファイルの一覧をファイル名の昇順で取得する\n",
    "files = natsorted(glob.glob('./predictdata/*.png'))\n",
    "\n",
    "# CSVに書き込むためのデータフレームを作成数\n",
    "result = pd.DataFrame(columns=['file','predict'])\n",
    "\n",
    "# ファイルの一覧から1つずファイルを取り出し、予測する\n",
    "for file in files:\n",
    "\n",
    "    # 作成したimage2array関数を使い、画像を一次元配列に変換する\n",
    "    my_image = image2array(file)\n",
    "    \n",
    "    # データ予測する\n",
    "    res = clf.predict(my_image)\n",
    "\n",
    "    # データフレームに追加するデータをディクショナリ型で格納する。\n",
    "    # 予測結果は配列ではく、結果のみの文字列とする。\n",
    "    append_data = {'file': file, 'predict':res[0]}\n",
    "    result = result.append([append_data])\n",
    "\n",
    "# resultの内容をCSVファイルに保存する。indexはつけないようにする\n",
    "result.to_csv('result.csv',index=False)"
   ]
  },
  {
   "cell_type": "code",
   "execution_count": 9,
   "id": "533da9bd",
   "metadata": {
    "executionInfo": {
     "elapsed": 6,
     "status": "ok",
     "timestamp": 1640074892581,
     "user": {
      "displayName": "辻本秀樹",
      "photoUrl": "https://lh3.googleusercontent.com/a/default-user=s64",
      "userId": "00583032237073523999"
     },
     "user_tz": -540
    },
    "id": "533da9bd"
   },
   "outputs": [],
   "source": []
  }
 ],
 "metadata": {
  "colab": {
   "collapsed_sections": [],
   "name": "AI-FW2_効果測定1_問題1.ipynb",
   "provenance": []
  },
  "kernelspec": {
   "display_name": "Python 3 (ipykernel)",
   "language": "python",
   "name": "python3"
  },
  "language_info": {
   "codemirror_mode": {
    "name": "ipython",
    "version": 3
   },
   "file_extension": ".py",
   "mimetype": "text/x-python",
   "name": "python",
   "nbconvert_exporter": "python",
   "pygments_lexer": "ipython3",
   "version": "3.9.12"
  }
 },
 "nbformat": 4,
 "nbformat_minor": 5
}
