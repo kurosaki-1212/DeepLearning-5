{
 "cells": [
  {
   "cell_type": "markdown",
   "metadata": {
    "id": "6XMQVIfEKed-"
   },
   "source": [
    "# AI-FW2 効果測定1 問題2"
   ]
  },
  {
   "cell_type": "markdown",
   "metadata": {
    "id": "APEiIWPlYPsS"
   },
   "source": [
    "google colaboratoryに\"kouka_1_2_data.zip\"をアップロードし、下記のセルを実行してデータを解凍してください"
   ]
  },
  {
   "cell_type": "code",
   "execution_count": null,
   "metadata": {
    "id": "303fdcbe"
   },
   "outputs": [],
   "source": [
    "!unzip \"kouka_1_2_data.zip\""
   ]
  },
  {
   "cell_type": "code",
   "execution_count": 2,
   "metadata": {
    "executionInfo": {
     "elapsed": 1037,
     "status": "ok",
     "timestamp": 1640074975013,
     "user": {
      "displayName": "辻本秀樹",
      "photoUrl": "https://lh3.googleusercontent.com/a/default-user=s64",
      "userId": "00583032237073523999"
     },
     "user_tz": -540
    },
    "id": "LZdzffxLeLXQ"
   },
   "outputs": [],
   "source": [
    "# ライブラリのインポート \n",
    "import cv2\n",
    "import matplotlib.pyplot as plt\n",
    "import pickle"
   ]
  },
  {
   "cell_type": "markdown",
   "metadata": {
    "id": "C9FZDQb1HA9v"
   },
   "source": [
    "四角枠の領域を抽出する"
   ]
  },
  {
   "cell_type": "code",
   "execution_count": 3,
   "metadata": {
    "executionInfo": {
     "elapsed": 13,
     "status": "ok",
     "timestamp": 1640074975013,
     "user": {
      "displayName": "辻本秀樹",
      "photoUrl": "https://lh3.googleusercontent.com/a/default-user=s64",
      "userId": "00583032237073523999"
     },
     "user_tz": -540
    },
    "id": "AIbqjt_MdlEq"
   },
   "outputs": [],
   "source": [
    "# 画像から四角の領域を抽出する関数を作成する\n",
    "# * 引数 fname ... 読み込む画像のファイル名\n",
    "# * 戻り値1 ... 画像の中にある矩形の座標と大きさ(x座標, y座標, 幅, 高さ)のリスト\n",
    "# * 戻り値2 ... 画像イメージ\n",
    "def detect_rectangle(fname):\n",
    "    # fnameの画像を読み込む\n",
    "    img = cv2.imread(fname)\n",
    "\n",
    "    # 画像を二値化\n",
    "    gray = cv2.cvtColor(img, cv2.COLOR_BGR2GRAY)\n",
    "    gray = cv2.GaussianBlur(gray, (3, 3), 0) \n",
    "    im2 = cv2.threshold(gray, 140, 255, cv2.THRESH_BINARY_INV)[1]\n",
    "    \n",
    "    # 輪郭を抽出\n",
    "    cnts = cv2.findContours(im2, cv2.RETR_LIST, cv2.CHAIN_APPROX_SIMPLE)[0]\n",
    "\n",
    "\n",
    "    # 抽出した輪郭を単純なリストに変換\n",
    "    result = []\n",
    "    for pt in cnts:\n",
    "        x, y, w, h = cv2.boundingRect(pt)\n",
    "\n",
    "        # 大きすぎたり小さすぎたりする領域を除去\n",
    "        # 今回は幅が50以下、70以上のものは格納しない\n",
    "        if not(50 < w < 70): continue\n",
    "        result.append([x, y, w, h])\n",
    "\n",
    "    # 抽出した輪郭のソートや、近すぎる領域の除去は行わず、結果を返す\n",
    "    return result, img"
   ]
  },
  {
   "cell_type": "markdown",
   "metadata": {
    "id": "4niQHuoRHKfS"
   },
   "source": [
    "四角枠の領域の数値を判別する"
   ]
  },
  {
   "cell_type": "code",
   "execution_count": 4,
   "metadata": {
    "executionInfo": {
     "elapsed": 13,
     "status": "ok",
     "timestamp": 1640074975014,
     "user": {
      "displayName": "辻本秀樹",
      "photoUrl": "https://lh3.googleusercontent.com/a/default-user=s64",
      "userId": "00583032237073523999"
     },
     "user_tz": -540
    },
    "id": "3ip5ebO-fM1p"
   },
   "outputs": [],
   "source": [
    "# 学習済みの手書き数字認識モデル「digits.pkl」を読み込む\n",
    "with open('digits.pkl', 'rb') as fp:\n",
    "    clf = pickle.load(fp)"
   ]
  },
  {
   "cell_type": "code",
   "execution_count": 5,
   "metadata": {
    "executionInfo": {
     "elapsed": 13,
     "status": "ok",
     "timestamp": 1640074975014,
     "user": {
      "displayName": "辻本秀樹",
      "photoUrl": "https://lh3.googleusercontent.com/a/default-user=s64",
      "userId": "00583032237073523999"
     },
     "user_tz": -540
    },
    "id": "6qIdNLj8t5Cb"
   },
   "outputs": [],
   "source": [
    "# 四角枠内の数値を識別し、リストを返す関数を作成する\n",
    "# * 引数 fname ... 読み込む画像のファイル名\n",
    "# * 戻り値 ... 認識した数値のリスト\n",
    "def predict_numbers(fname):\n",
    "    # 返却用リストの初期化\n",
    "    result = []\n",
    "\n",
    "    # 画像から四角枠の領域を読み込む\n",
    "    cnts, img = detect_rectangle(fname)\n",
    "\n",
    "    # 読み込んだデータに含まれている数値を検出し、リストに追加する\n",
    "    for i, pt in enumerate(cnts):\n",
    "        x, y, w, h = pt\n",
    "\n",
    "        # 枠線の輪郭分だけ小さくする\n",
    "        x += 8\n",
    "        y += 8\n",
    "        w -= 16\n",
    "        h -= 16\n",
    "\n",
    "        # 画像データを取り出す\n",
    "        im2 = img[y:y+h, x:x+w]\n",
    "\n",
    "        # 画像データを学習済みデータに合わせる\n",
    "        # グレイスケールに変換\n",
    "        im2gray = cv2.cvtColor(im2, cv2.COLOR_BGR2GRAY)\n",
    "        # リサイズ\n",
    "        im2gray = cv2.resize(im2gray, (8, 8))\n",
    "        # 白黒反転 \n",
    "        im2gray = 15 - im2gray // 16 \n",
    "        # 一次元に変換\n",
    "        im2gray = im2gray.reshape((-1, 64)) \n",
    "\n",
    "        #データを予測する\n",
    "        res = clf.predict(im2gray)\n",
    "\n",
    "        # 予測結果をresultに追加する\n",
    "        result.append(res[0])\n",
    "\n",
    "    # 識別結果の返却\n",
    "    return result"
   ]
  },
  {
   "cell_type": "markdown",
   "metadata": {
    "id": "Uqzv0v2BGOg8"
   },
   "source": [
    "ターゲット数値を取得する"
   ]
  },
  {
   "cell_type": "code",
   "execution_count": 6,
   "metadata": {
    "colab": {
     "base_uri": "https://localhost:8080/",
     "height": 0
    },
    "executionInfo": {
     "elapsed": 12,
     "status": "ok",
     "timestamp": 1640074975014,
     "user": {
      "displayName": "辻本秀樹",
      "photoUrl": "https://lh3.googleusercontent.com/a/default-user=s64",
      "userId": "00583032237073523999"
     },
     "user_tz": -540
    },
    "id": "BuQx8QkRe6rM",
    "outputId": "c250ab4d-148a-4e5d-f653-9147875d255e"
   },
   "outputs": [
    {
     "name": "stdout",
     "output_type": "stream",
     "text": [
      "{1, 2, 3}\n"
     ]
    }
   ],
   "source": [
    "# 以下コメント以外は空欄にする\n",
    "\n",
    "# 作成したpredict_numbers関数を利用し、調査ターゲットの画像の判別結果を取得する\n",
    "res = predict_numbers('target.png')\n",
    "\n",
    "# 調査ターゲットの数値を集合に代入する\n",
    "target_nums = set(res)\n",
    "\n",
    "# 調査ターゲットの数値を表示する\n",
    "print(target_nums)"
   ]
  },
  {
   "cell_type": "markdown",
   "metadata": {
    "id": "iwpqSHpFzw5Y"
   },
   "source": [
    "\n",
    "チェック対象の画像にターゲット数値が含まれるかチェックする"
   ]
  },
  {
   "cell_type": "code",
   "execution_count": 7,
   "metadata": {
    "colab": {
     "base_uri": "https://localhost:8080/",
     "height": 0
    },
    "executionInfo": {
     "elapsed": 11,
     "status": "ok",
     "timestamp": 1640074975015,
     "user": {
      "displayName": "辻本秀樹",
      "photoUrl": "https://lh3.googleusercontent.com/a/default-user=s64",
      "userId": "00583032237073523999"
     },
     "user_tz": -540
    },
    "id": "V_Kl0oa8kZBx",
    "outputId": "d84906a1-2a14-4a0f-d7a7-6a2f419daec9"
   },
   "outputs": [
    {
     "name": "stdout",
     "output_type": "stream",
     "text": [
      "ファイル名：check1.png 含まれたターゲット数値：{3}\n",
      "ファイル名：check2.png 含まれない\n",
      "ファイル名：check3.png 含まれたターゲット数値：{1}\n",
      "ファイル名：check4.png 含まれたターゲット数値：{2}\n",
      "ファイル名：check5.png 含まれたターゲット数値：{1, 2}\n"
     ]
    }
   ],
   "source": [
    "filenames = ['check1.png','check2.png','check3.png','check4.png','check5.png']\n",
    "\n",
    "for filename in filenames:\n",
    "\n",
    "  # 画像を読み込み、認識結果を取得する\n",
    "  result_set = set(predict_numbers(filename))\n",
    "\n",
    "  # ターゲット数値が含まれていれば、どのターゲット数値が含まれていたかを表示する\n",
    "  # ターゲット数値が含まれていなければ、「含まれない」と表示する\n",
    "  check_result = target_nums & result_set\n",
    "  if len(check_result) > 0:\n",
    "      print('ファイル名：{} 含まれたターゲット数値：{}'.format(filename,check_result))\n",
    "  else:\n",
    "      print('ファイル名：{} 含まれない'.format(filename))"
   ]
  },
  {
   "cell_type": "markdown",
   "metadata": {
    "id": "VvUlCBjM167X"
   },
   "source": [
    "▶実行結果  \n",
    "ファイル名：check1.png 含まれたターゲット数値：{3}  \n",
    "ファイル名：check2.png 含まれない  \n",
    "ファイル名：check3.png 含まれたターゲット数値：{1}  \n",
    "ファイル名：check4.png 含まれたターゲット数値：{2}  \n",
    "ファイル名：check5.png 含まれたターゲット数値：{1, 2}"
   ]
  },
  {
   "cell_type": "code",
   "execution_count": 7,
   "metadata": {
    "executionInfo": {
     "elapsed": 8,
     "status": "ok",
     "timestamp": 1640074975015,
     "user": {
      "displayName": "辻本秀樹",
      "photoUrl": "https://lh3.googleusercontent.com/a/default-user=s64",
      "userId": "00583032237073523999"
     },
     "user_tz": -540
    },
    "id": "FY_0XPgwn1zL"
   },
   "outputs": [],
   "source": []
  }
 ],
 "metadata": {
  "colab": {
   "authorship_tag": "ABX9TyMNpNIhwevT9vKJMH0eKU1H",
   "collapsed_sections": [],
   "name": "AI-FW2_効果測定1_問題2.ipynb",
   "provenance": []
  },
  "kernelspec": {
   "display_name": "Python 3 (ipykernel)",
   "language": "python",
   "name": "python3"
  },
  "language_info": {
   "codemirror_mode": {
    "name": "ipython",
    "version": 3
   },
   "file_extension": ".py",
   "mimetype": "text/x-python",
   "name": "python",
   "nbconvert_exporter": "python",
   "pygments_lexer": "ipython3",
   "version": "3.9.12"
  }
 },
 "nbformat": 4,
 "nbformat_minor": 1
}
