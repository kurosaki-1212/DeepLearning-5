{
 "cells": [
  {
   "cell_type": "code",
   "execution_count": 1,
   "metadata": {
    "colab": {
     "base_uri": "https://localhost:8080/"
    },
    "id": "cVi-EtkL03oZ",
    "outputId": "3d00cda3-ffff-43c1-c14c-d8004a21fa90"
   },
   "outputs": [
    {
     "name": "stdout",
     "output_type": "stream",
     "text": [
      "Cloning into 'mecab-ipadic-neologd'...\n",
      "remote: Enumerating objects: 75, done.\u001b[K\n",
      "remote: Counting objects: 100% (75/75), done.\u001b[K\n",
      "remote: Compressing objects: 100% (74/74), done.\u001b[K\n",
      "remote: Total 75 (delta 5), reused 54 (delta 0), pack-reused 0\u001b[K\n",
      "Unpacking objects: 100% (75/75), done.\n"
     ]
    }
   ],
   "source": [
    "!apt-get -q -y install sudo file mecab libmecab-dev mecab-ipadic-utf8 git curl python-mecab > /dev/null\n",
    "!git clone --depth 1 https://github.com/neologd/mecab-ipadic-neologd.git > /dev/null \n",
    "!echo yes | mecab-ipadic-neologd/bin/install-mecab-ipadic-neologd -n > /dev/null 2>&1\n",
    "!pip install mecab-python3 > /dev/null\n",
    "\n",
    "# シンボリックリンクによるエラー回避\n",
    "!ln -s /etc/mecabrc /usr/local/etc/mecabrc"
   ]
  },
  {
   "cell_type": "code",
   "execution_count": 2,
   "metadata": {
    "colab": {
     "base_uri": "https://localhost:8080/"
    },
    "id": "NlRmDLq81Co9",
    "outputId": "31d60a95-f3e7-426f-9a01-2f7b95ac3a71"
   },
   "outputs": [
    {
     "name": "stdout",
     "output_type": "stream",
     "text": [
      "/usr/lib/x86_64-linux-gnu/mecab/dic/mecab-ipadic-neologd\n"
     ]
    }
   ],
   "source": [
    "# パスの確認↓\n",
    "!echo `mecab-config --dicdir`\"/mecab-ipadic-neologd\""
   ]
  },
  {
   "cell_type": "code",
   "execution_count": 23,
   "metadata": {
    "colab": {
     "base_uri": "https://localhost:8080/"
    },
    "id": "5j1nrQks1LSy",
    "outputId": "d8961f19-274d-4011-a6da-d4917dd041b8"
   },
   "outputs": [
    {
     "name": "stdout",
     "output_type": "stream",
     "text": [
      "You -> rsplitは、sep を区切り文字とした、文字列中の単語のリストを返します\n",
      "Bot -> rsplit()は後ほど詳しく述べるsplit()と同様に振る舞います。\n",
      "You ->  maxsplit が与えられた場合、文字列の 右端 から最大 maxsplit 回分割を行います\n",
      "Bot -> maxsplit回分割されます。\n",
      "You -> sep が指定されていない、あるいは None のとき、全ての空白文字が区切り文字となります\n",
      "Bot -> sepをデリミタ文字列を分割すると、['']を返します。\n",
      "You -> 右から分割していくことを除けば、 rsplit() は後ほど詳しく述べる split() と同様に振る舞います\n",
      "Bot -> 右から分割していくことを除けば、rsplit()は後ほど詳しく述べるsplit()と同様に振る舞います。\n",
      "You -> splitは、文字列を sep をデリミタ文字列として区切った単語のリストを返します\n",
      "Bot -> split('<>')は['1','2']を返します。\n",
      "You -> maxsplit が与えられていれば、最大で maxsplit 回分割されます\n",
      "Bot -> maxsplit回分割を行います。\n",
      "You -> つまり、リストは最大 maxsplit+1 要素になります\n",
      "Bot -> リストは最大maxsplit回分割されます。\n",
      "You -> maxsplit が与えられないか -1 なら、分割の回数に制限はありません\n",
      "Bot -> maxsplitが与えられた場合、連続した区切り文字はまとめられず、空の文字列として区切った単語のリストを返します。\n",
      "You -> 可能なだけ分割されます\n",
      "Bot -> 可能なだけ分割されていない、あるいはNoneのとき、全ての空白文字が区切り文字を指定していくことを除けば、rsplit()は後ほど詳しく述べるsplit()と同様に振る舞います。\n",
      "You -> sep が与えられた場合、連続した区切り文字はまとめられず、空の文字列を区切っていると判断されます\n",
      "Bot -> sepを区切り文字となります。\n",
      "You -> 例えば '1,,2'.split(',') は ['1', '', '2'] を返します\n",
      "Bot -> '3']を返します。\n",
      "You -> 引数 sep は複数の文字にもできます\n",
      "Bot -> 引数sepは複数の文字にもできます。\n",
      "You -> 例えば '1<>2<>3'.split('<>') は ['1', '2', '3'] を返します\n",
      "Bot -> '2','2','3']を返します。\n",
      "You -> 区切り文字を指定して空の文字列を分割すると、 [''] を返します\n",
      "Bot -> 区切り文字を指定して空の文字にもできます。\n",
      "You -> さようなら\n",
      "Bot -> さようなら\n"
     ]
    }
   ],
   "source": [
    "# 実行前にMeCabのインストールを必ず！\n",
    "\n",
    "import MeCab\n",
    "import os,json,random\n",
    "\n",
    "dict_file = \"markov_dict_ext.json\"\n",
    "dic = {}\n",
    "\n",
    "text = \"rsplitは、sep を区切り文字とした、文字列中の単語のリストを返します。 maxsplit が与えられた場合、文字列の 右端 から最大 maxsplit 回分割を行います。sep が指定されていない、あるいは None のとき、全ての空白文字が区切り文字となります。右から分割していくことを除けば、 rsplit() は後ほど詳しく述べる split() と同様に振る舞います。splitは、文字列を sep をデリミタ文字列として区切った単語のリストを返します。maxsplit が与えられていれば、最大で maxsplit 回分割されます。つまり、リストは最大 maxsplit+1 要素になります。maxsplit が与えられないか -1 なら、分割の回数に制限はありません。可能なだけ分割されます。sep が与えられた場合、連続した区切り文字はまとめられず、空の文字列を区切っていると判断されます。例えば '1,,2'.split(',') は ['1', '', '2'] を返します。引数 sep は複数の文字にもできます。例えば '1<>2<>3'.split('<>') は ['1', '2', '3'] を返します。区切り文字を指定して空の文字列を分割すると、 [''] を返します。\"\n",
    "text = text.split('。')\n",
    "text.pop(-1)\n",
    "text.append('さようなら')\n",
    "\n",
    "# 辞書への登録\n",
    "def regist_dic(wordlist):\n",
    "    global dic\n",
    "    w1 = \"\"\n",
    "    w2 = \"\"\n",
    "    \n",
    "    # 要素が3未満の場合は、何もしない\n",
    "    if len(wordlist) < 3 : return\n",
    "    \n",
    "    for w in wordlist :\n",
    "        word = w[0]\n",
    "        # wordlistに入っているものを出力してみる\n",
    "        # print('wordlist{}:w[0]{}'.forma(wordlist,w[0]))\n",
    "        if word == \"\" or  word == \"\\r\\n\" or word == \"\\n\" : continue\n",
    "        # 辞書に単語を設定\n",
    "        # w1かw2が空白なら以下「set_dic」を処理しない\n",
    "        if w1 and w2 :\n",
    "            # print('w1{}, w2'.format(w1, w2))\n",
    "            set_dic(dic, w1, w2, word)\n",
    "        # 文末を表す語の場合、連鎖をクリアする\n",
    "        if word == \"。\" or word == \"?\" or  word == \"？\" :\n",
    "            w1 = \"\"\n",
    "            w2 = \"\"\n",
    "            continue\n",
    "        # 次の前後関係を登録するために、単語をスライド\n",
    "        w1, w2 = w2, word\n",
    "    \n",
    "    # 辞書を保存\n",
    "    json.dump(dic, open(dict_file,\"w\", encoding=\"utf-8\"))\n",
    "\n",
    "# 辞書に単語を設定\n",
    "def set_dic(dic, w1, w2, w3):\n",
    "    # 新しい単語の場合は、新しい辞書オブジェクトを作成\n",
    "    if w1 not in dic : dic[w1] = {}\n",
    "    if w2 not in dic[w1] : dic[w1][w2] = {}\n",
    "    if w3 not in dic[w1][w2]: dic[w1][w2][w3] = 0\n",
    "    # 単語の出現数をインクリメントする\n",
    "    dic[w1][w2][w3] += 1\n",
    "# 応答文の作成\n",
    "def make_response(word):\n",
    "    res = []\n",
    "    \n",
    "    # 「名詞」/「形容詞」/「動詞」は、文章の意図を示していることが多いと想定し、始点の単語とする。\n",
    "    w1 = word\n",
    "    res.append(w1)\n",
    "    w2 = word_choice(dic[w1])\n",
    "    res.append(w2)\n",
    "    while True:\n",
    "        # w1,w2の組み合わせから予想される、単語を選択\n",
    "        if w1 in dic and w2 in dic[w1] : w3 = word_choice(dic[w1][w2])\n",
    "        else : w3 = \"\"\n",
    "        res.append(w3)\n",
    "        # 文末を表す語の場合、作文を終了\n",
    "        if w3 == \"。\" or w3 == \"?\" or  w3 == \"？\"  or w3 == \"\" :  break\n",
    "        # 次の単語を選択するために、単語をスライド\n",
    "        w1, w2 = w2, w3\n",
    "    return \"\".join(res)\n",
    "        \n",
    "def word_choice(candidate):\n",
    "    keys = candidate.keys()\n",
    "    return random.choice(list(keys))\n",
    "\n",
    "# ====================================\n",
    "#         メイン処理\n",
    "# ====================================\n",
    "\n",
    "# 辞書がすでに存在する場合は、最初に読み込む\n",
    "if os.path.exists(dict_file):\n",
    "        dic = json.load(open(dict_file,\"r\"))\n",
    "        \n",
    "for i in text:\n",
    "    # 標準入力から入力を受け付け、「さようなら」が入力されるまで続ける\n",
    "    print(\"You -> \", end='')\n",
    "    print(i)\n",
    "    text = i\n",
    "    if text == \"\" or text == \"さようなら\" : \n",
    "        print(\"Bot -> さようなら\")\n",
    "        break\n",
    "\n",
    "    # 文章整形（次のセルに解説あり）\n",
    "    if text[-1] != \"。\" and text[-1] != \"?\" and text[-1] != \"？\" : text +=\"。\"\n",
    "    \n",
    "    # 形態素解析\n",
    "    # tagger = MeCab.Tagger(\"-d /var/lib/mecab/dic/mecab-ipadic-neologd\")\n",
    "\n",
    "    # 「パスの確認」のセルで表示されたパスをTaggerの引数に入れること\n",
    "    # ※※※※※効果測定で使います！※※※※※※※\n",
    "    tagger = MeCab.Tagger('/usr/lib/x86_64-linux-gnu/mecab/dic/mecab-ipadic-neologd')\n",
    "    tagger.parse(\"\") \n",
    "    node =  tagger.parseToNode(text)\n",
    "    \n",
    "    # 形態素解析の結果から、単語と品詞情報を抽出\n",
    "    wordlist = []\n",
    "    while node is not None:\n",
    "        # node.surface：形態素解析された単語が入っている\n",
    "        # node.feature：形態素の解析結果のパラメータで、「名詞,一般,*,*,*,*,月,ツキ,ツキ」のようなデータ\n",
    "        # そのため、node.feature.split(',')[0]とすると、品詞（上記例だと「名詞」という文字列）が取得できる\n",
    "        hinshi = node.feature.split(\",\")[0]\n",
    "\n",
    "        # BOS:Beginning Of Sentence(文頭)、EOS:End Of Sentence(文末)\n",
    "        if  hinshi not  in [\"BOS/EOS\"]:\n",
    "            # wordlistにnode.surfaceとhinshiを追加\n",
    "            wordlist.append([node.surface,hinshi])\n",
    "            # print(wordlist)\n",
    "        node = node.next\n",
    "    \n",
    "    # マルコフ連鎖の辞書に登録\n",
    "    # print('regist_dicに登録するwordlist{}'.format(wordlist))\n",
    "    regist_dic(wordlist)\n",
    "\n",
    "    # 応答文の作成\n",
    "    for w in wordlist:\n",
    "        word = w[0]\n",
    "        hinshi = w[1]\n",
    "        # 品詞が「感動詞」の場合は、単語をそのまま返す\n",
    "        if hinshi in [ \"感動詞\"] : \n",
    "            print(\"Bot -> \" + word)\n",
    "            break\n",
    "        # 品詞が「名詞」「形容詞」「動詞」の場合で、かつ、辞書に単語が存在する場合は、作文して返す\n",
    "        elif (hinshi in [ \"名詞\" ,\"形容詞\",\"動詞\"]) and (word in dic):\n",
    "            print(\"Bot -> \" + make_response(word))\n",
    "            break"
   ]
  }
 ],
 "metadata": {
  "colab": {
   "collapsed_sections": [],
   "name": "0607_markov_ext.ipynb",
   "provenance": []
  },
  "kernelspec": {
   "display_name": "Python 3 (ipykernel)",
   "language": "python",
   "name": "python3"
  },
  "language_info": {
   "codemirror_mode": {
    "name": "ipython",
    "version": 3
   },
   "file_extension": ".py",
   "mimetype": "text/x-python",
   "name": "python",
   "nbconvert_exporter": "python",
   "pygments_lexer": "ipython3",
   "version": "3.9.12"
  }
 },
 "nbformat": 4,
 "nbformat_minor": 1
}
