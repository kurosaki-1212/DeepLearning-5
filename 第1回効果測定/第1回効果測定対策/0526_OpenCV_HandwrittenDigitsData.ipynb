{
 "cells": [
  {
   "cell_type": "markdown",
   "id": "02f9d625",
   "metadata": {},
   "source": [
    "# まずreshapeについて\n",
    "※このメモが書けるcellは「cell」→「cell type」→「Markdown」\n",
    "\n",
    "マークダウン記法：\n",
    "https://qiita.com/tbpgr/items/989c6badefff69377da7"
   ]
  },
  {
   "cell_type": "code",
   "execution_count": 34,
   "id": "aecdda55",
   "metadata": {},
   "outputs": [
    {
     "name": "stdout",
     "output_type": "stream",
     "text": [
      "(3, 4)\n"
     ]
    }
   ],
   "source": [
    "import numpy as np\n",
    "a = np.array([[1, 2, 3, 4],\n",
    "              [5, 6, 7, 8],\n",
    "              [9, 10, 11, 12]])\n",
    "print(a.shape)"
   ]
  },
  {
   "cell_type": "code",
   "execution_count": 35,
   "id": "21299392",
   "metadata": {},
   "outputs": [
    {
     "data": {
      "text/plain": [
       "array([[ 1,  2,  3,  4,  5,  6,  7,  8,  9, 10, 11, 12]])"
      ]
     },
     "execution_count": 35,
     "metadata": {},
     "output_type": "execute_result"
    }
   ],
   "source": [
    "# 1行12列の形状にreshape(行列の形の変換)\n",
    "a.reshape(1,12)"
   ]
  },
  {
   "cell_type": "code",
   "execution_count": 36,
   "id": "0b853179",
   "metadata": {},
   "outputs": [
    {
     "data": {
      "text/plain": [
       "array([[ 1,  2,  3,  4,  5,  6],\n",
       "       [ 7,  8,  9, 10, 11, 12]])"
      ]
     },
     "execution_count": 36,
     "metadata": {},
     "output_type": "execute_result"
    }
   ],
   "source": [
    "# 2行6列の形状にreshapeしたい\n",
    "a.reshape(2,6)"
   ]
  },
  {
   "cell_type": "code",
   "execution_count": 37,
   "id": "48ace463",
   "metadata": {},
   "outputs": [
    {
     "data": {
      "text/plain": [
       "array([ 1,  2,  3,  4,  5,  6,  7,  8,  9, 10, 11, 12])"
      ]
     },
     "execution_count": 37,
     "metadata": {},
     "output_type": "execute_result"
    }
   ],
   "source": [
    "# reshapeに-1を指定する場合について知っておこう\n",
    "\n",
    "# 明示的に1行にしたい場合\n",
    "# (1行なら12列なのは当たり前だから(1,12)と書かなくてよくて省エネ！)\n",
    "a.reshape(-1)"
   ]
  },
  {
   "cell_type": "code",
   "execution_count": 38,
   "id": "71659bbe",
   "metadata": {},
   "outputs": [
    {
     "data": {
      "text/plain": [
       "array([[ 1,  2,  3],\n",
       "       [ 4,  5,  6],\n",
       "       [ 7,  8,  9],\n",
       "       [10, 11, 12]])"
      ]
     },
     "execution_count": 38,
     "metadata": {},
     "output_type": "execute_result"
    }
   ],
   "source": [
    "# 何行かは計算するのが面倒臭いけど、3列にreshapeしたい！\n",
    "# 列数だけ指定してreshape ,\n",
    "# 指定しない行に-1を入れておくと勝手に12÷3=4行を計算しreshapeしてくれる\n",
    "a.reshape(-1,3)"
   ]
  },
  {
   "cell_type": "code",
   "execution_count": 39,
   "id": "2b5a6402",
   "metadata": {},
   "outputs": [
    {
     "data": {
      "text/plain": [
       "array([[ 1,  2],\n",
       "       [ 3,  4],\n",
       "       [ 5,  6],\n",
       "       [ 7,  8],\n",
       "       [ 9, 10],\n",
       "       [11, 12]])"
      ]
     },
     "execution_count": 39,
     "metadata": {},
     "output_type": "execute_result"
    }
   ],
   "source": [
    "# 練習①\n",
    "# 6行にreshape(列数は指定しない)\n",
    "a.reshape(6, -1)"
   ]
  },
  {
   "cell_type": "code",
   "execution_count": 40,
   "id": "6e2d02ac",
   "metadata": {},
   "outputs": [
    {
     "name": "stdout",
     "output_type": "stream",
     "text": [
      "[ 1  2  3  4  5  6  7  8  9 10 11 12 13 14 15 16 17 18 19 20]\n",
      "[[ 1  2  3  4  5  6  7  8  9 10]\n",
      " [11 12 13 14 15 16 17 18 19 20]]\n"
     ]
    }
   ],
   "source": [
    "# 練習②\n",
    "import numpy as np\n",
    "b = np.array([[1, 2, 3, 4],\n",
    "             [5, 6, 7, 8],\n",
    "             [9, 10, 11, 12],\n",
    "             [13, 14, 15, 16],\n",
    "             [17, 18, 19, 20]])\n",
    "\n",
    "# reshapeに-1を指定して、一行の形に変換しprintで表示しよう\n",
    "print(b.reshape(-1))\n",
    "\n",
    "# 列数のみ指定してreshape. 列数:10 \n",
    "print(b.reshape(-1, 10))"
   ]
  },
  {
   "cell_type": "markdown",
   "id": "ec1faec9",
   "metadata": {},
   "source": [
    "# 文字認識　手書き数字を判定しよう"
   ]
  },
  {
   "cell_type": "code",
   "execution_count": 41,
   "id": "771cc0d8",
   "metadata": {},
   "outputs": [
    {
     "data": {
      "image/png": "[encoded data removed]",
      "text/plain": [
       "<Figure size 432x288 with 15 Axes>"
      ]
     },
     "metadata": {
      "needs_background": "light"
     },
     "output_type": "display_data"
    }
   ],
   "source": [
    "# データを確認してみよう\n",
    "import matplotlib.pyplot as plt\n",
    "\n",
    "# 手書きデータを読み込む\n",
    "from sklearn import datasets\n",
    "digits = datasets.load_digits()\n",
    "\n",
    "# 15連続で出力する\n",
    "for i in range(15):\n",
    "    plt.subplot(3, 5, i + 1)\n",
    "    plt.axis('off')\n",
    "#     数字データの正解値\n",
    "    plt.title(str(digits.target[i]))\n",
    "#     数字データ\n",
    "    plt.imshow(digits.images[i], cmap='gray')\n",
    "\n",
    "plt.show()"
   ]
  },
  {
   "cell_type": "code",
   "execution_count": 42,
   "id": "07f07442",
   "metadata": {},
   "outputs": [
    {
     "data": {
      "image/png": "[encoded data removed]",
      "text/plain": [
       "<Figure size 432x288 with 1 Axes>"
      ]
     },
     "metadata": {
      "needs_background": "light"
     },
     "output_type": "display_data"
    },
    {
     "name": "stdout",
     "output_type": "stream",
     "text": [
      "[[ 0.  0.  5. 13.  9.  1.  0.  0.]\n",
      " [ 0.  0. 13. 15. 10. 15.  5.  0.]\n",
      " [ 0.  3. 15.  2.  0. 11.  8.  0.]\n",
      " [ 0.  4. 12.  0.  0.  8.  8.  0.]\n",
      " [ 0.  5.  8.  0.  0.  9.  8.  0.]\n",
      " [ 0.  4. 11.  0.  1. 12.  7.  0.]\n",
      " [ 0.  2. 14.  5. 10. 12.  0.  0.]\n",
      " [ 0.  0.  6. 13. 10.  0.  0.  0.]]\n"
     ]
    }
   ],
   "source": [
    "d0 =digits.images[0]\n",
    "plt.imshow(d0,cmap='gray')\n",
    "plt.show()\n",
    "print(d0)"
   ]
  },
  {
   "cell_type": "code",
   "execution_count": 43,
   "id": "09edb2dc",
   "metadata": {},
   "outputs": [
    {
     "name": "stdout",
     "output_type": "stream",
     "text": [
      "0.9944444444444445\n"
     ]
    }
   ],
   "source": [
    "from sklearn.model_selection import train_test_split\n",
    "from sklearn import datasets, svm, metrics\n",
    "from sklearn.metrics import accuracy_score\n",
    "\n",
    "# データを読み込む\n",
    "digits = datasets.load_digits()\n",
    "x = digits.images\n",
    "y = digits.target\n",
    "# 二次元配列を一次元配列に変換\n",
    "x = x.reshape((-1, 64))\n",
    "\n",
    "# データを学習用とテスト用に分割する\n",
    "x_train, x_test, y_train, y_test = train_test_split(x, y, test_size=0.2)\n",
    "\n",
    "# データを学習\n",
    "clf = svm.SVC()\n",
    "clf.fit(x_train, y_train)\n",
    "\n",
    "# 予測して精度を確認する\n",
    "y_pred = clf.predict(x_test)\n",
    "print(accuracy_score(y_test, y_pred))\n"
   ]
  },
  {
   "cell_type": "code",
   "execution_count": 44,
   "id": "6cd54144",
   "metadata": {},
   "outputs": [],
   "source": [
    "# 学習済みデータを「digits.pkl」という名前で保存する\n",
    "# with openのオプション\n",
    "# ‘w’ : 書き込み用で開きます。ファイル名に設定したものがすでに存在している場合はそのファイルに上書きします。\n",
    "# ‘r’ : 読み込み用で開きます。\n",
    "# ‘x’ : 新規ファイルの書き込みとして使います。既存に存在している場合はエラーとなる。\n",
    "# ‘a’ : 書き込み用で開きます。既存に存在している場合は末行に追加していく。\n",
    "# ‘b’ : バイナリモードで開きます。\n",
    "with open ('digits.pkl', 'wb') as fp:\n",
    "    pickle.dump(clf, fp)"
   ]
  },
  {
   "cell_type": "markdown",
   "id": "f92f08fd",
   "metadata": {},
   "source": [
    "# ペイントソフトで手書きの数字データを作成しよう\n",
    "ペイント起動→手書きで適当に数字を記載→「png」形式でAIFW2フォルダに保存  \n"
   ]
  },
  {
   "cell_type": "code",
   "execution_count": 62,
   "id": "3db7d9f7",
   "metadata": {},
   "outputs": [
    {
     "name": "stdout",
     "output_type": "stream",
     "text": [
      "元データの配列データ\n",
      "[[255 255 255   0 207 255 255 255]\n",
      " [255 255   0   0 191 255 255 255]\n",
      " [255 255 255   0 255 255 255 255]\n",
      " [255 255 255   0 255 255 255 255]\n",
      " [255 255 255   0 255 255 255 255]\n",
      " [255 255 255   0 255 255 255 255]\n",
      " [255   0   0   0   0   0 255 255]\n",
      " [255 255 255 255 255 255 255 255]]\n",
      "白黒変換後の配列データ\n",
      "[[ 0  0  0 15  3  0  0  0]\n",
      " [ 0  0 15 15  4  0  0  0]\n",
      " [ 0  0  0 15  0  0  0  0]\n",
      " [ 0  0  0 15  0  0  0  0]\n",
      " [ 0  0  0 15  0  0  0  0]\n",
      " [ 0  0  0 15  0  0  0  0]\n",
      " [ 0 15 15 15 15 15  0  0]\n",
      " [ 0  0  0  0  0  0  0  0]]\n"
     ]
    },
    {
     "data": {
      "image/png": "[encoded data removed]",
      "text/plain": [
       "<Figure size 432x288 with 1 Axes>"
      ]
     },
     "metadata": {
      "needs_background": "light"
     },
     "output_type": "display_data"
    }
   ],
   "source": [
    "# 読み込んだ手書きデータの読み込み部分ソースコードを実行して、何をやっているのか確認する\n",
    "import cv2\n",
    "import matplotlib.pyplot as plt\n",
    "\n",
    "my_img = cv2.imread('1.png')\n",
    "# 画像データを学習済みデータに合わせる\n",
    "\n",
    "# グレースケールに\n",
    "my_img = cv2.cvtColor(my_img, cv2.COLOR_BGR2GRAY)\n",
    "\n",
    "# 元画像を8*8のサイズにリサイズ\n",
    "my_img = cv2.resize(my_img, (8, 8))\n",
    "\n",
    "print('元データの配列データ',my_img,sep='\\n')\n",
    "\n",
    "my_img = 15 - my_img // 16\n",
    "\n",
    "print('白黒変換後の配列データ',my_img,sep='\\n')\n",
    "\n",
    "plt.imshow(my_img, cmap='gray')\n",
    "plt.show()"
   ]
  },
  {
   "cell_type": "code",
   "execution_count": 65,
   "id": "cef60327",
   "metadata": {},
   "outputs": [
    {
     "name": "stdout",
     "output_type": "stream",
     "text": [
      "1.png = 5\n",
      "2.png = 4\n",
      "3.png = 7\n",
      "4.png = 4\n",
      "5.png = 4\n",
      "6.png = 7\n",
      "7.png = 4\n",
      "8.png = 4\n",
      "9.png = 1\n",
      "0.png = 7\n"
     ]
    }
   ],
   "source": [
    "# 自分で用意したデータの画像判定を行うプログラムを実装しましょう\n",
    "import cv2\n",
    "import pickle\n",
    "\n",
    "def predict_digit(filename):\n",
    "    # 学習済みデータを読み込む\n",
    "    with open('digits.pkl', 'rb') as fp:\n",
    "        clf = pickle.load(fp)\n",
    "    # 自分で用意した手書きの画像ファイルを読み込む\n",
    "    my_img = cv2\n",
    "    # 画像データをが奇襲済みデータに合わせる\n",
    "    my_img = cv2.imread(filename)\n",
    "    my_img = cv2.resize(my_img, (8, 8))\n",
    "    my_img = 15 - my_img // 16 # 白黒反転する\n",
    "    # 二次元配列を一次元配列に変換\n",
    "    my_img = my_img.reshape((-1, 64))\n",
    "    # データを予測する\n",
    "    res = clf.predict(my_img)\n",
    "    return res[0]\n",
    "    \n",
    "# 画像ファイルを指定して実行\n",
    "n = predict_digit(\"1.png\")\n",
    "print(\"1.png = \" + str(n))\n",
    "n = predict_digit(\"2.png\")\n",
    "print(\"2.png = \" + str(n))\n",
    "n = predict_digit(\"3.png\")\n",
    "print(\"3.png = \" + str(n))\n",
    "n = predict_digit(\"4.png\")\n",
    "print(\"4.png = \" + str(n))\n",
    "n = predict_digit(\"5.png\")\n",
    "print(\"5.png = \" + str(n))\n",
    "n = predict_digit(\"6.png\")\n",
    "print(\"6.png = \" + str(n))\n",
    "n = predict_digit(\"7.png\")\n",
    "print(\"7.png = \" + str(n))\n",
    "n = predict_digit(\"8.png\")\n",
    "print(\"8.png = \" + str(n))\n",
    "n = predict_digit(\"9.png\")\n",
    "print(\"9.png = \" + str(n))\n",
    "n = predict_digit(\"0.png\")\n",
    "print(\"0.png = \" + str(n))"
   ]
  },
  {
   "cell_type": "code",
   "execution_count": null,
   "id": "1d6fef99",
   "metadata": {},
   "outputs": [],
   "source": []
  }
 ],
 "metadata": {
  "kernelspec": {
   "display_name": "Python 3 (ipykernel)",
   "language": "python",
   "name": "python3"
  },
  "language_info": {
   "codemirror_mode": {
    "name": "ipython",
    "version": 3
   },
   "file_extension": ".py",
   "mimetype": "text/x-python",
   "name": "python",
   "nbconvert_exporter": "python",
   "pygments_lexer": "ipython3",
   "version": "3.9.12"
  }
 },
 "nbformat": 4,
 "nbformat_minor": 5
}
