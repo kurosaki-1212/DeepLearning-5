{
 "cells": [
  {
   "cell_type": "code",
   "execution_count": null,
   "metadata": {
    "colab": {
     "base_uri": "https://localhost:8080/"
    },
    "id": "uRuvdVvaKDcW",
    "outputId": "edddd845-14bc-4dd1-a734-5d0c99fa4880"
   },
   "outputs": [
    {
     "name": "stdout",
     "output_type": "stream",
     "text": [
      "Archive:  ex2_data.zip\n",
      "replace index_train.csv? [y]es, [n]o, [A]ll, [N]one, [r]ename: "
     ]
    }
   ],
   "source": [
    "# zipファイルの解凍\n",
    "# このコードを実行すると、アップロードしたzipファイルが解凍されます。\n",
    "!unzip \"ex2_data.zip\""
   ]
  },
  {
   "cell_type": "code",
   "execution_count": null,
   "metadata": {
    "id": "7ybD4S-FKgIR"
   },
   "outputs": [],
   "source": [
    "# ライブラリのインポート\n",
    "import pandas as pd\n",
    "import cv2\n",
    "from sklearn.model_selection import train_test_split\n",
    "from sklearn import datasets, svm, metrics\n",
    "from sklearn.metrics import accuracy_score\n",
    "import pickle"
   ]
  },
  {
   "cell_type": "code",
   "execution_count": null,
   "metadata": {
    "id": "sQ6tHrcLTvxd"
   },
   "outputs": [],
   "source": [
    "# テキストP177を参考に画像ファイルを1次元のndarrayに変換する関数を作成する\n",
    "\n",
    "# * 引数 filename ... 画像ファイルのパスを受け取る\n",
    "# * 戻り値 ... 画像を1次元配列にした結果を返す\n",
    "def read_dir(filename):\n",
    "    # 自分で用意した手書きの画像ファイルを読み込む\n",
    "    my_img = cv2.imread(filename)\n",
    "\n",
    "    # 画像をグレースケールにする\n",
    "    my_img = cv2.cvtColor(my_img, cv2.COLOR_BGR2GRAY)\n",
    "    \n",
    "    # 画像を32×32にリサイズする\n",
    "    my_img = cv2.resize(my_img, (32, 32))\n",
    "    \n",
    "    # 二次元を一次元に変換する(データ数は32×32個となる)\n",
    "    # my_img = my_img.reshape((-1,))\n",
    "    my_img = my_img.reshape(-1, 32*32)\n",
    "\n",
    "    return my_img"
   ]
  },
  {
   "cell_type": "code",
   "execution_count": null,
   "metadata": {
    "colab": {
     "base_uri": "https://localhost:8080/"
    },
    "id": "YT0UEHtCUfOM",
    "outputId": "3f81afbb-e56f-4b93-f4aa-923a2ef905ac"
   },
   "outputs": [
    {
     "name": "stdout",
     "output_type": "stream",
     "text": [
      "                  filename target\n",
      "0    ./traindata/a (1).png      ア\n",
      "1   ./traindata/a (10).png      ア\n",
      "2  ./traindata/a (100).png      ア\n",
      "3   ./traindata/a (11).png      ア\n",
      "4   ./traindata/a (12).png      ア\n"
     ]
    }
   ],
   "source": [
    "# ファイルの一覧(index_train.csv)を読み込み、データフレームを作成する\n",
    "df_index = pd.read_csv('index_train.csv' ,encoding='shift-jis')\n",
    "print(df_index.head())"
   ]
  },
  {
   "cell_type": "code",
   "execution_count": null,
   "metadata": {
    "id": "-r4jD8CijJCm"
   },
   "outputs": [],
   "source": [
    "# 読み込んだデータフレームのファイル名で画像ファイルを読み込み、特徴量Xに代入する\n",
    "# 空のデータフレームを作成しておく\n",
    "X = pd.DataFrame()\n",
    "\n",
    "# forで1レコードずつ取り出す\n",
    "# イテレータ：繰り返す\n",
    "for index, row in df_index.iterrows():\n",
    "    # 作成したread_dir関数を使い、画像を一次元配列に変換し、特徴量とする\n",
    "    # 引数→対象の画像ファイルのフルパス\n",
    "    ret = read_dir(row['filename'])\n",
    "\n",
    "    # 変換後の配列(ndarray型)からDataFrameを生成し、特徴量Xに追加する\n",
    "    # X = X.append(pd.Series(ret), ignore_index=True)\n",
    "    X = X.append(pd.DataFrame(ret))\n",
    "\n",
    "# 読み込んだデータフレームのtarget列を、正解データyに代入する\n",
    "y = df_index['target']"
   ]
  },
  {
   "cell_type": "code",
   "execution_count": null,
   "metadata": {
    "colab": {
     "base_uri": "https://localhost:8080/"
    },
    "id": "xww1cyqcjkvG",
    "outputId": "2074ff34-6312-40ac-a38b-ff4d709ed3f1"
   },
   "outputs": [
    {
     "name": "stdout",
     "output_type": "stream",
     "text": [
      "0.9\n"
     ]
    }
   ],
   "source": [
    "# 特徴量X、正解データyをデータを学習用とテスト用に分割する\n",
    "# テスト用データは全体の20%とする\n",
    "# 乱数シードは0とする\n",
    "X_train, X_test, y_train, y_test = train_test_split(X, y, test_size=0.2, random_state=0)\n",
    "\n",
    "# SVCのモデルを生成する\n",
    "# 乱数シードは0とする\n",
    "clf = svm.SVC(random_state=0)\n",
    "\n",
    "# 学習用データを学習する\n",
    "clf.fit(X_train, y_train)\n",
    "\n",
    "# テスト用データで予測して精度を確認する\n",
    "y_pred = clf.predict(X_test)\n",
    "print(accuracy_score(y_test, y_pred))"
   ]
  },
  {
   "cell_type": "code",
   "execution_count": null,
   "metadata": {
    "id": "195mDE1DnAM5"
   },
   "outputs": [],
   "source": [
    "# ⑬学習済モデルを「ex2_model.pkl」という名前で保存する\n",
    "with open(\"ex2_model.pkl\", \"wb\") as fp:\n",
    "    pickle.dump(clf, fp)"
   ]
  },
  {
   "cell_type": "code",
   "execution_count": null,
   "metadata": {
    "id": "yMS6292LTcqi"
   },
   "outputs": [],
   "source": []
  }
 ],
 "metadata": {
  "colab": {
   "collapsed_sections": [],
   "name": "練習問題_問2.ipynb",
   "provenance": []
  },
  "kernelspec": {
   "display_name": "Python 3 (ipykernel)",
   "language": "python",
   "name": "python3"
  },
  "language_info": {
   "codemirror_mode": {
    "name": "ipython",
    "version": 3
   },
   "file_extension": ".py",
   "mimetype": "text/x-python",
   "name": "python",
   "nbconvert_exporter": "python",
   "pygments_lexer": "ipython3",
   "version": "3.9.12"
  }
 },
 "nbformat": 4,
 "nbformat_minor": 1
}
