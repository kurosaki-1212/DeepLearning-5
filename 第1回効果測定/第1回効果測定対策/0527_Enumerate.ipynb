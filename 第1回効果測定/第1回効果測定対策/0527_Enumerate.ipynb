{
 "cells": [
  {
   "cell_type": "markdown",
   "id": "2d350bd7",
   "metadata": {},
   "source": [
    "# for ~ enumerate "
   ]
  },
  {
   "cell_type": "code",
   "execution_count": 1,
   "id": "d3bb3e5f",
   "metadata": {},
   "outputs": [
    {
     "name": "stdout",
     "output_type": "stream",
     "text": [
      "0 波平\n",
      "1 船\n",
      "2 勝男\n",
      "3 若芽\n",
      "4 多羅尾\n"
     ]
    }
   ],
   "source": [
    "name_list = ['波平','船','勝男','若芽','多羅尾']\n",
    "\n",
    "for i, name in enumerate(name_list):\n",
    "    print(i, name)\n",
    "    \n",
    "# enumerateは、存在しないindexを生成しながらイテラブルオブジェクト（繰り返し可能なオブジェクト）を取り出せる\n"
   ]
  },
  {
   "cell_type": "code",
   "execution_count": 2,
   "id": "8bb8aa72",
   "metadata": {},
   "outputs": [
    {
     "name": "stdout",
     "output_type": "stream",
     "text": [
      "1 波平\n",
      "2 船\n",
      "3 勝男\n",
      "4 若芽\n",
      "5 多羅尾\n"
     ]
    }
   ],
   "source": [
    "# 1からindexをカウントしたい\n",
    "for i, name in enumerate(name_list, 1):\n",
    "    print(i, name)"
   ]
  },
  {
   "cell_type": "code",
   "execution_count": 3,
   "id": "f5ca7d0a",
   "metadata": {},
   "outputs": [
    {
     "name": "stdout",
     "output_type": "stream",
     "text": [
      "0 ('tky210001', 'Aoki')\n",
      "1 ('tky210002', 'Inohara')\n",
      "2 ('tky210003', 'Uematsu')\n"
     ]
    }
   ],
   "source": [
    "# 辞書型にも使える\n",
    "students_dict = {'tky210001':'Aoki','tky210002':'Inohara','tky210003':'Uematsu'}\n",
    " \n",
    "for i, v in enumerate(students_dict.items()):\n",
    "    print(i,v)"
   ]
  },
  {
   "cell_type": "code",
   "execution_count": null,
   "id": "7eee6975",
   "metadata": {},
   "outputs": [],
   "source": []
  }
 ],
 "metadata": {
  "kernelspec": {
   "display_name": "Python 3 (ipykernel)",
   "language": "python",
   "name": "python3"
  },
  "language_info": {
   "codemirror_mode": {
    "name": "ipython",
    "version": 3
   },
   "file_extension": ".py",
   "mimetype": "text/x-python",
   "name": "python",
   "nbconvert_exporter": "python",
   "pygments_lexer": "ipython3",
   "version": "3.9.12"
  }
 },
 "nbformat": 4,
 "nbformat_minor": 5
}
